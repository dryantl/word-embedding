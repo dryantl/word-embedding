{
 "cells": [
  {
   "cell_type": "markdown",
   "metadata": {},
   "source": [
    "# Import Useful Modules "
   ]
  },
  {
   "cell_type": "code",
   "execution_count": 1,
   "metadata": {},
   "outputs": [
    {
     "name": "stderr",
     "output_type": "stream",
     "text": [
      "D:\\Program\\Anaconda\\lib\\site-packages\\gensim\\utils.py:1197: UserWarning: detected Windows; aliasing chunkize to chunkize_serial\n",
      "  warnings.warn(\"detected Windows; aliasing chunkize to chunkize_serial\")\n",
      "D:\\Program\\Anaconda\\lib\\site-packages\\sklearn\\cross_validation.py:41: DeprecationWarning: This module was deprecated in version 0.18 in favor of the model_selection module into which all the refactored classes and functions are moved. Also note that the interface of the new CV iterators are different from that of this module. This module will be removed in 0.20.\n",
      "  \"This module will be removed in 0.20.\", DeprecationWarning)\n",
      "D:\\Program\\Anaconda\\lib\\site-packages\\sklearn\\grid_search.py:42: DeprecationWarning: This module was deprecated in version 0.18 in favor of the model_selection module into which all the refactored classes and functions are moved. This module will be removed in 0.20.\n",
      "  DeprecationWarning)\n",
      "D:\\Program\\Anaconda\\lib\\site-packages\\h5py\\__init__.py:36: FutureWarning: Conversion of the second argument of issubdtype from `float` to `np.floating` is deprecated. In future, it will be treated as `np.float64 == np.dtype(float).type`.\n",
      "  from ._conv import register_converters as _register_converters\n",
      "Using TensorFlow backend.\n"
     ]
    }
   ],
   "source": [
    "import numpy as np\n",
    "import pandas as pd\n",
    "import matplotlib.pyplot as plt\n",
    "from time import gmtime, strftime\n",
    "import time\n",
    "import datetime\n",
    "from collections import Counter\n",
    "import pickle\n",
    "import os\n",
    "\n",
    "from sklearn.model_selection import train_test_split\n",
    "from sklearn.metrics import classification_report\n",
    "\n",
    "# Preprocessing\n",
    "from sklearn.preprocessing import LabelEncoder, OneHotEncoder\n",
    "\n",
    "# Embedder\n",
    "from gensim.models import FastText\n",
    "\n",
    "# Classifier\n",
    "from sklearn.svm import SVC\n",
    "from sklearn.ensemble import GradientBoostingClassifier as GBC\n",
    "from sklearn.linear_model import LogisticRegression as LR\n",
    "from sklearn.ensemble import RandomForestClassifier as RFC\n",
    "from sklearn.grid_search import GridSearchCV as GS\n",
    "\n",
    "import keras\n",
    "import tensorflow\n",
    "from keras.models import Sequential\n",
    "from keras.layers import Dense, Activation, Dropout\n",
    "from keras.utils import to_categorical\n",
    "\n",
    "from preprocessing_pipeline import preprocessing"
   ]
  },
  {
   "cell_type": "code",
   "execution_count": 2,
   "metadata": {},
   "outputs": [],
   "source": [
    "#Determine Model's Save Location\n",
    "\n",
    "#version=\n",
    "version=\"version_6\""
   ]
  },
  {
   "cell_type": "code",
   "execution_count": 3,
   "metadata": {},
   "outputs": [],
   "source": [
    "if(not(os.path.exists(\"model/{}\".format(version)))):\n",
    "    os.makedirs(\"model/{}\".format(version))"
   ]
  },
  {
   "cell_type": "markdown",
   "metadata": {},
   "source": [
    "# ---------------------------------------------------------------------------------------------------------------"
   ]
  },
  {
   "cell_type": "markdown",
   "metadata": {},
   "source": [
    "# Read Data To Pandas Dataframe"
   ]
  },
  {
   "cell_type": "code",
   "execution_count": 4,
   "metadata": {},
   "outputs": [],
   "source": [
    "def read_product_title_data():\n",
    "    product_title_only=pd.read_csv('data/query.csv',header=None)\n",
    "    product_title_only[\"Product Title\"]=product_title_only[1]\n",
    "    product_title_only=product_title_only[[\"Product Title\"]]\n",
    "    product_title_only.dropna(inplace=True,axis=0)\n",
    "    \n",
    "#     return (product_title_only[:300000],\n",
    "#             product_title_only[300000:600000],\n",
    "#             product_title_only[600000:900000],\n",
    "#             product_title_only[900000:1200000],\n",
    "#             product_title_only[1200000:1500000],\n",
    "#             product_title_only[1500000:1800000],\n",
    "#             product_title_only[1800000:])\n",
    "    \n",
    "    return product_title_only"
   ]
  },
  {
   "cell_type": "code",
   "execution_count": 5,
   "metadata": {},
   "outputs": [],
   "source": [
    "data_for_embedding=read_product_title_data()"
   ]
  },
  {
   "cell_type": "code",
   "execution_count": 6,
   "metadata": {},
   "outputs": [
    {
     "data": {
      "text/html": [
       "<div>\n",
       "<style scoped>\n",
       "    .dataframe tbody tr th:only-of-type {\n",
       "        vertical-align: middle;\n",
       "    }\n",
       "\n",
       "    .dataframe tbody tr th {\n",
       "        vertical-align: top;\n",
       "    }\n",
       "\n",
       "    .dataframe thead th {\n",
       "        text-align: right;\n",
       "    }\n",
       "</style>\n",
       "<table border=\"1\" class=\"dataframe\">\n",
       "  <thead>\n",
       "    <tr style=\"text-align: right;\">\n",
       "      <th></th>\n",
       "      <th>Product Title</th>\n",
       "    </tr>\n",
       "  </thead>\n",
       "  <tbody>\n",
       "    <tr>\n",
       "      <th>0</th>\n",
       "      <td>gear+camping</td>\n",
       "    </tr>\n",
       "    <tr>\n",
       "      <th>1</th>\n",
       "      <td>Lightstick+EXO</td>\n",
       "    </tr>\n",
       "    <tr>\n",
       "      <th>2</th>\n",
       "      <td>vivo+v7</td>\n",
       "    </tr>\n",
       "    <tr>\n",
       "      <th>3</th>\n",
       "      <td>subwoofer+kolong+aktif</td>\n",
       "    </tr>\n",
       "    <tr>\n",
       "      <th>4</th>\n",
       "      <td>Hotpants+anak</td>\n",
       "    </tr>\n",
       "  </tbody>\n",
       "</table>\n",
       "</div>"
      ],
      "text/plain": [
       "            Product Title\n",
       "0            gear+camping\n",
       "1          Lightstick+EXO\n",
       "2                 vivo+v7\n",
       "3  subwoofer+kolong+aktif\n",
       "4           Hotpants+anak"
      ]
     },
     "execution_count": 6,
     "metadata": {},
     "output_type": "execute_result"
    }
   ],
   "source": [
    "data_for_embedding.head()"
   ]
  },
  {
   "cell_type": "markdown",
   "metadata": {},
   "source": [
    "# ---------------------------------------------------------------------------------------------------------------"
   ]
  },
  {
   "cell_type": "markdown",
   "metadata": {},
   "source": [
    "# Construct Word Embedder (Using fasttext)"
   ]
  },
  {
   "cell_type": "code",
   "execution_count": 7,
   "metadata": {},
   "outputs": [],
   "source": [
    "preprocessor=preprocessing(None,None)"
   ]
  },
  {
   "cell_type": "code",
   "execution_count": 8,
   "metadata": {},
   "outputs": [],
   "source": [
    "product_title=[preprocessor.remove_parentheses(value) for value in data_for_embedding[\"Product Title\"]]"
   ]
  },
  {
   "cell_type": "code",
   "execution_count": 9,
   "metadata": {},
   "outputs": [
    {
     "data": {
      "text/plain": [
       "[['gear', 'camping'],\n",
       " ['lightstick', 'exo'],\n",
       " ['vivo', 'v7'],\n",
       " ['subwoofer', 'kolong', 'aktif'],\n",
       " ['hotpants', 'anak']]"
      ]
     },
     "execution_count": 9,
     "metadata": {},
     "output_type": "execute_result"
    }
   ],
   "source": [
    "product_title[:5]"
   ]
  },
  {
   "cell_type": "code",
   "execution_count": 10,
   "metadata": {},
   "outputs": [
    {
     "data": {
      "text/plain": [
       "2440682"
      ]
     },
     "execution_count": 10,
     "metadata": {},
     "output_type": "execute_result"
    }
   ],
   "source": [
    "len(product_title)"
   ]
  },
  {
   "cell_type": "code",
   "execution_count": 32,
   "metadata": {},
   "outputs": [],
   "source": [
    "EMBEDDING_DIMENSION=100\n",
    "EMBEDDING_EPOCH=20\n",
    "EMBEDDING_WINDOW=7\n",
    "SEED=291834"
   ]
  },
  {
   "cell_type": "markdown",
   "metadata": {},
   "source": [
    "#### Train Embedding Model"
   ]
  },
  {
   "cell_type": "code",
   "execution_count": 33,
   "metadata": {},
   "outputs": [
    {
     "name": "stdout",
     "output_type": "stream",
     "text": [
      "Start Time : 2018-07-12 14:16:46.063211\n",
      "\n",
      "End Time : 2018-07-12 14:29:13.777870\n"
     ]
    }
   ],
   "source": [
    "# membuat model word embedding\n",
    "print(\"Start Time : {}\\n\".format(str(datetime.datetime.now())))\n",
    "word_embedder = FastText(product_title, size=EMBEDDING_DIMENSION, window=EMBEDDING_WINDOW, min_count=10, workers=4, sg=1, seed=SEED, min_n=5, iter=EMBEDDING_EPOCH,)\n",
    "print(\"End Time : {}\".format(str(datetime.datetime.now())))"
   ]
  },
  {
   "cell_type": "markdown",
   "metadata": {},
   "source": [
    "#### Save Model"
   ]
  },
  {
   "cell_type": "code",
   "execution_count": 64,
   "metadata": {},
   "outputs": [],
   "source": [
    "#save model\n",
    "pickle.dump(word_embedder, open(\"model/{}/word_embedder.pickle\".format(version), 'wb'))"
   ]
  },
  {
   "cell_type": "markdown",
   "metadata": {},
   "source": [
    "# ---------------------------------------------------------------------------------------------------------------"
   ]
  },
  {
   "cell_type": "markdown",
   "metadata": {},
   "source": [
    "# Word Embedding Evaluation"
   ]
  },
  {
   "cell_type": "markdown",
   "metadata": {},
   "source": [
    "#### Words With Similar Context Will Have Higher Similarity Degree"
   ]
  },
  {
   "cell_type": "code",
   "execution_count": 34,
   "metadata": {},
   "outputs": [
    {
     "data": {
      "text/plain": [
       "[('20naruto', 0.8509561419487),\n",
       " ('boruto', 0.745614230632782),\n",
       " ('shippuden', 0.6456469893455505),\n",
       " ('tsume', 0.6123440265655518),\n",
       " ('kakashi', 0.6100993156433105),\n",
       " ('chibi', 0.605150580406189),\n",
       " ('rin', 0.6038782596588135),\n",
       " ('juggernaut', 0.5976088643074036),\n",
       " ('kuroko', 0.5961208939552307),\n",
       " ('sao', 0.5954280495643616)]"
      ]
     },
     "execution_count": 34,
     "metadata": {},
     "output_type": "execute_result"
    }
   ],
   "source": [
    "word_embedder.wv.most_similar(\"naruto\")"
   ]
  },
  {
   "cell_type": "markdown",
   "metadata": {},
   "source": [
    "#### Merk dari barang akan saling berdekatan"
   ]
  },
  {
   "cell_type": "code",
   "execution_count": 63,
   "metadata": {},
   "outputs": [
    {
     "data": {
      "text/plain": [
       "[('core2', 0.7930219769477844),\n",
       " ('i5', 0.7834775447845459),\n",
       " ('core2quad', 0.7612477540969849),\n",
       " ('i3', 0.7352622747421265),\n",
       " ('corei5', 0.7318915724754333),\n",
       " ('corei3', 0.7248226404190063),\n",
       " ('intel', 0.718172550201416),\n",
       " ('i7', 0.7136193513870239),\n",
       " ('t4200', 0.7133781909942627),\n",
       " ('corei7', 0.7071148157119751)]"
      ]
     },
     "execution_count": 63,
     "metadata": {},
     "output_type": "execute_result"
    }
   ],
   "source": [
    "word_embedder.wv.most_similar(\"core\")"
   ]
  },
  {
   "cell_type": "markdown",
   "metadata": {},
   "source": [
    "### Embedding tidak terlalu terpengaruh typo"
   ]
  },
  {
   "cell_type": "code",
   "execution_count": 36,
   "metadata": {},
   "outputs": [
    {
     "data": {
      "text/plain": [
       "[('honda', 0.8505690097808838),\n",
       " ('20honda', 0.8425036668777466),\n",
       " ('zonda', 0.753135621547699),\n",
       " ('40kva', 0.7089325189590454),\n",
       " ('ronda', 0.7038331031799316),\n",
       " ('hd7850', 0.6858668923377991),\n",
       " ('evo3', 0.6768960952758789),\n",
       " ('20accord', 0.6716963052749634),\n",
       " ('kipok', 0.6667416095733643),\n",
       " ('honday', 0.6631885766983032)]"
      ]
     },
     "execution_count": 36,
     "metadata": {},
     "output_type": "execute_result"
    }
   ],
   "source": [
    "word_embedder.wv.most_similar(\"rhonda\")"
   ]
  },
  {
   "cell_type": "code",
   "execution_count": 37,
   "metadata": {},
   "outputs": [
    {
     "data": {
      "text/plain": [
       "[('honda', 0.8302379846572876),\n",
       " ('honday', 0.7343689203262329),\n",
       " ('hinda', 0.636542797088623),\n",
       " ('nouva', 0.5948721766471863),\n",
       " ('civic', 0.5856174230575562),\n",
       " ('aspira', 0.5853581428527832),\n",
       " ('temlar', 0.5685747861862183),\n",
       " ('gtr150', 0.5568150877952576),\n",
       " ('1976', 0.5563762187957764),\n",
       " ('c70', 0.552899956703186)]"
      ]
     },
     "execution_count": 37,
     "metadata": {},
     "output_type": "execute_result"
    }
   ],
   "source": [
    "word_embedder.wv.most_similar(\"hondar\")"
   ]
  },
  {
   "cell_type": "code",
   "execution_count": 38,
   "metadata": {},
   "outputs": [
    {
     "data": {
      "text/plain": [
       "[('smsung', 0.8695873022079468),\n",
       " ('saamsung', 0.8118991255760193),\n",
       " ('galaxy', 0.7806167006492615),\n",
       " ('20samsung', 0.759710431098938),\n",
       " ('samsumg', 0.745133638381958),\n",
       " ('sasung', 0.7200661897659302),\n",
       " ('20samsunge5', 0.7125160694122314),\n",
       " ('samaung', 0.6870971322059631),\n",
       " ('smasung', 0.6857773065567017),\n",
       " ('galaxs', 0.6605793237686157)]"
      ]
     },
     "execution_count": 38,
     "metadata": {},
     "output_type": "execute_result"
    }
   ],
   "source": [
    "word_embedder.wv.most_similar(\"samsung\")"
   ]
  },
  {
   "cell_type": "markdown",
   "metadata": {},
   "source": [
    "# ---------------------------------------------------------------------------------------------------------------"
   ]
  }
 ],
 "metadata": {
  "kernelspec": {
   "display_name": "Python 3",
   "language": "python",
   "name": "python3"
  },
  "language_info": {
   "codemirror_mode": {
    "name": "ipython",
    "version": 3
   },
   "file_extension": ".py",
   "mimetype": "text/x-python",
   "name": "python",
   "nbconvert_exporter": "python",
   "pygments_lexer": "ipython3",
   "version": "3.6.4"
  }
 },
 "nbformat": 4,
 "nbformat_minor": 2
}
