{
 "cells": [
  {
   "cell_type": "markdown",
   "metadata": {},
   "source": [
    "# Import Useful Modules "
   ]
  },
  {
   "cell_type": "code",
   "execution_count": 64,
   "metadata": {},
   "outputs": [],
   "source": [
    "import numpy as np\n",
    "import pandas as pd\n",
    "import matplotlib.pyplot as plt\n",
    "from time import gmtime, strftime\n",
    "import time\n",
    "import datetime\n",
    "from collections import Counter\n",
    "import pickle\n",
    "import os\n",
    "\n",
    "from sklearn.model_selection import train_test_split\n",
    "from sklearn.metrics import classification_report\n",
    "\n",
    "# Preprocessing\n",
    "from sklearn.preprocessing import LabelEncoder, OneHotEncoder\n",
    "\n",
    "# Embedder\n",
    "from gensim.models import FastText\n",
    "\n",
    "# Classifier\n",
    "from sklearn.svm import SVC\n",
    "from sklearn.ensemble import GradientBoostingClassifier as GBC\n",
    "from sklearn.linear_model import LogisticRegression as LR\n",
    "from sklearn.ensemble import RandomForestClassifier as RFC\n",
    "from sklearn.grid_search import GridSearchCV as GS\n",
    "\n",
    "import keras\n",
    "import tensorflow\n",
    "from keras.models import Sequential\n",
    "from keras.layers import Dense, Activation, Dropout\n",
    "from keras.utils import to_categorical\n",
    "\n",
    "from preprocessing_pipeline import preprocessing_pipeline"
   ]
  },
  {
   "cell_type": "code",
   "execution_count": 10,
   "metadata": {},
   "outputs": [],
   "source": [
    "#Determine Model's Save Location\n",
    "\n",
    "#version=\n",
    "version=\"version_3\""
   ]
  },
  {
   "cell_type": "code",
   "execution_count": 11,
   "metadata": {},
   "outputs": [],
   "source": [
    "if(not(os.path.exists(\"model/{}\".format(version)))):\n",
    "    os.makedirs(\"model/{}\".format(version))"
   ]
  },
  {
   "cell_type": "markdown",
   "metadata": {},
   "source": [
    "# ---------------------------------------------------------------------------------------------------------------"
   ]
  },
  {
   "cell_type": "markdown",
   "metadata": {},
   "source": [
    "# Read Data To Pandas Dataframe"
   ]
  },
  {
   "cell_type": "code",
   "execution_count": 4,
   "metadata": {},
   "outputs": [],
   "source": [
    "# data untuk klasifikasi kategori produk\n",
    "data_for_classification=pd.read_csv(\"data/product_data.csv\")\n",
    "\n",
    "# data untuk word embedding\n",
    "data_for_embedding=pd.read_fwf('data/products2m.txt',header=None)\n",
    "data_for_embedding[\"Product Title\"]=data_for_embedding[0]\n",
    "data_for_embedding=data_for_embedding[[\"Product Title\"]]\n",
    "data_for_embedding.dropna(inplace=True,axis=0)"
   ]
  },
  {
   "cell_type": "code",
   "execution_count": 5,
   "metadata": {},
   "outputs": [
    {
     "data": {
      "text/html": [
       "<div>\n",
       "<style scoped>\n",
       "    .dataframe tbody tr th:only-of-type {\n",
       "        vertical-align: middle;\n",
       "    }\n",
       "\n",
       "    .dataframe tbody tr th {\n",
       "        vertical-align: top;\n",
       "    }\n",
       "\n",
       "    .dataframe thead th {\n",
       "        text-align: right;\n",
       "    }\n",
       "</style>\n",
       "<table border=\"1\" class=\"dataframe\">\n",
       "  <thead>\n",
       "    <tr style=\"text-align: right;\">\n",
       "      <th></th>\n",
       "      <th>Product Title</th>\n",
       "    </tr>\n",
       "  </thead>\n",
       "  <tbody>\n",
       "    <tr>\n",
       "      <th>0</th>\n",
       "      <td>PC LENOVO IC300s-i5(4460)-VGA with LED-19,5</td>\n",
       "    </tr>\n",
       "    <tr>\n",
       "      <th>1</th>\n",
       "      <td>prosessor intel core i5 4440</td>\n",
       "    </tr>\n",
       "    <tr>\n",
       "      <th>2</th>\n",
       "      <td>LENOVO All in One aio310-0kid</td>\n",
       "    </tr>\n",
       "    <tr>\n",
       "      <th>3</th>\n",
       "      <td>PC Lenovo aio510-crid</td>\n",
       "    </tr>\n",
       "    <tr>\n",
       "      <th>4</th>\n",
       "      <td>HP Pavilion 570-P034D Win 10 Home</td>\n",
       "    </tr>\n",
       "  </tbody>\n",
       "</table>\n",
       "</div>"
      ],
      "text/plain": [
       "                                 Product Title\n",
       "0  PC LENOVO IC300s-i5(4460)-VGA with LED-19,5\n",
       "1                 prosessor intel core i5 4440\n",
       "2                LENOVO All in One aio310-0kid\n",
       "3                        PC Lenovo aio510-crid\n",
       "4            HP Pavilion 570-P034D Win 10 Home"
      ]
     },
     "execution_count": 5,
     "metadata": {},
     "output_type": "execute_result"
    }
   ],
   "source": [
    "data_for_embedding.head()"
   ]
  },
  {
   "cell_type": "markdown",
   "metadata": {},
   "source": [
    "# ---------------------------------------------------------------------------------------------------------------"
   ]
  },
  {
   "cell_type": "markdown",
   "metadata": {},
   "source": [
    "# Construct Word Embedder (Using fasttext)"
   ]
  },
  {
   "cell_type": "code",
   "execution_count": 8,
   "metadata": {},
   "outputs": [],
   "source": [
    "# menghapus karakter tidak penting dari data\n",
    "product_title=[preprocessing_pipeline.remove_parentheses(value) for value in data_for_embedding[\"Product Title\"]]"
   ]
  },
  {
   "cell_type": "code",
   "execution_count": 51,
   "metadata": {},
   "outputs": [],
   "source": [
    "EMBEDDING_DIMENSION=500\n",
    "EMBEDDING_EPOCH=10\n",
    "EMBEDDING_WINDOW=3\n",
    "SEED=2918342"
   ]
  },
  {
   "cell_type": "markdown",
   "metadata": {},
   "source": [
    "#### Train Model"
   ]
  },
  {
   "cell_type": "code",
   "execution_count": 52,
   "metadata": {},
   "outputs": [
    {
     "name": "stdout",
     "output_type": "stream",
     "text": [
      "Start Time : 2018-06-19 19:32:22.563596\n",
      "\n",
      "End Time : 2018-06-19 19:46:17.327298\n"
     ]
    }
   ],
   "source": [
    "# membuat model word embedding\n",
    "print(\"Start Time : {}\\n\".format(str(datetime.datetime.now())))\n",
    "word_embedder = FastText(product_title, size=EMBEDDING_DIMENSION, window=EMBEDDING_WINDOW, min_count=10, workers=4, sg=1, seed=SEED, min_n=5, iter=EMBEDDING_EPOCH,)\n",
    "print(\"End Time : {}\".format(str(datetime.datetime.now())))"
   ]
  },
  {
   "cell_type": "markdown",
   "metadata": {},
   "source": [
    "#### Save Model"
   ]
  },
  {
   "cell_type": "code",
   "execution_count": null,
   "metadata": {},
   "outputs": [],
   "source": [
    "#save model\n",
    "pickle.dump(word_embedder, open(\"model/{}/word_embedder.pickle\".format(version), 'wb'))"
   ]
  },
  {
   "cell_type": "markdown",
   "metadata": {},
   "source": [
    "# ---------------------------------------------------------------------------------------------------------------"
   ]
  },
  {
   "cell_type": "markdown",
   "metadata": {},
   "source": [
    "# Word Embedding Evaluation"
   ]
  },
  {
   "cell_type": "markdown",
   "metadata": {},
   "source": [
    "#### Words With Similar Context Will Have Higher Similarity Degree"
   ]
  },
  {
   "cell_type": "code",
   "execution_count": 54,
   "metadata": {},
   "outputs": [
    {
     "data": {
      "text/plain": [
       "[('shippuden', 0.7031046152114868),\n",
       " ('boruto', 0.6761870384216309),\n",
       " ('sasuke', 0.6664952039718628),\n",
       " ('shipuden', 0.6587018966674805),\n",
       " ('kakashi', 0.6283613443374634),\n",
       " ('obito', 0.627750039100647),\n",
       " ('akashi', 0.6275634765625),\n",
       " ('kurama', 0.6184660792350769),\n",
       " ('hatake', 0.6149826049804688),\n",
       " ('itachi', 0.6135033369064331)]"
      ]
     },
     "execution_count": 54,
     "metadata": {},
     "output_type": "execute_result"
    }
   ],
   "source": [
    "word_embedder.wv.most_similar(\"naruto\")"
   ]
  },
  {
   "cell_type": "markdown",
   "metadata": {},
   "source": [
    "#### Merk dari barang akan saling berdekatan"
   ]
  },
  {
   "cell_type": "code",
   "execution_count": 55,
   "metadata": {},
   "outputs": [
    {
     "data": {
      "text/plain": [
       "[('onda', 0.6230453252792358),\n",
       " ('yhh7d', 0.5966163873672485),\n",
       " ('accord', 0.5765111446380615),\n",
       " ('cbr150r', 0.5754551291465759),\n",
       " ('mobilio', 0.5721031427383423),\n",
       " ('brio', 0.566548228263855),\n",
       " ('hrv', 0.5586144924163818),\n",
       " ('9khh', 0.55219566822052),\n",
       " ('vft3', 0.5449224710464478),\n",
       " ('nm4', 0.5411602258682251)]"
      ]
     },
     "execution_count": 55,
     "metadata": {},
     "output_type": "execute_result"
    }
   ],
   "source": [
    "word_embedder.wv.most_similar(\"honda\")"
   ]
  },
  {
   "cell_type": "markdown",
   "metadata": {},
   "source": [
    "### Embedding tidak terlalu terpengaruh typo"
   ]
  },
  {
   "cell_type": "code",
   "execution_count": 56,
   "metadata": {},
   "outputs": [
    {
     "data": {
      "text/plain": [
       "[('honda', 0.9968082308769226),\n",
       " ('onda', 0.6665443181991577),\n",
       " ('yhh7d', 0.6184070110321045),\n",
       " ('cbr150r', 0.5945714712142944),\n",
       " ('accord', 0.5926158428192139),\n",
       " ('mobilio', 0.586244523525238),\n",
       " ('brio', 0.5775419473648071),\n",
       " ('9khh', 0.5724884271621704),\n",
       " ('hrv', 0.5702943801879883),\n",
       " ('vft3', 0.5689144134521484)]"
      ]
     },
     "execution_count": 56,
     "metadata": {},
     "output_type": "execute_result"
    }
   ],
   "source": [
    "word_embedder.wv.most_similar(\"rhonda\")"
   ]
  },
  {
   "cell_type": "code",
   "execution_count": 57,
   "metadata": {},
   "outputs": [
    {
     "data": {
      "text/plain": [
       "[('honda', 0.8777920007705688),\n",
       " ('nm4', 0.610139012336731),\n",
       " ('yhh7d', 0.6014863848686218),\n",
       " ('nb4', 0.5936532020568848),\n",
       " ('9khh', 0.5924826860427856),\n",
       " ('onda', 0.5918368101119995),\n",
       " ('vft3', 0.5897369980812073),\n",
       " ('exz21', 0.5888421535491943),\n",
       " ('2wsxz', 0.586002767086029),\n",
       " ('nsr150rr', 0.5811038017272949)]"
      ]
     },
     "execution_count": 57,
     "metadata": {},
     "output_type": "execute_result"
    }
   ],
   "source": [
    "word_embedder.wv.most_similar(\"hondar\")"
   ]
  },
  {
   "cell_type": "code",
   "execution_count": 58,
   "metadata": {},
   "outputs": [
    {
     "data": {
      "text/plain": [
       "[('samsun', 0.9623421430587769),\n",
       " ('samsu', 0.9552503228187561),\n",
       " ('galaxy', 0.559675931930542),\n",
       " ('n7000', 0.5589054822921753),\n",
       " ('galaxi', 0.5516957640647888),\n",
       " ('3vcr1q', 0.5420868992805481),\n",
       " ('4dd3w', 0.5420292019844055),\n",
       " ('1pi86t', 0.5358167886734009),\n",
       " ('ds2qw', 0.534637451171875),\n",
       " ('10w', 0.5289009809494019)]"
      ]
     },
     "execution_count": 58,
     "metadata": {},
     "output_type": "execute_result"
    }
   ],
   "source": [
    "word_embedder.wv.most_similar(\"samsung\")"
   ]
  },
  {
   "cell_type": "markdown",
   "metadata": {},
   "source": [
    "# ---------------------------------------------------------------------------------------------------------------"
   ]
  },
  {
   "cell_type": "markdown",
   "metadata": {},
   "source": [
    "# Embed Product Title To Vector Space"
   ]
  },
  {
   "cell_type": "code",
   "execution_count": null,
   "metadata": {},
   "outputs": [],
   "source": [
    "embedded_data,label_encoder=preprocessing_pipeline[\"preprocess_data\"](\n",
    "    data_for_classification[\"Product Title\"],\n",
    "    data_for_classification[\"Category Name\"],\n",
    "    EMBEDDING_DIMENSION,\n",
    "    word_embedder\n",
    ")"
   ]
  },
  {
   "cell_type": "code",
   "execution_count": null,
   "metadata": {},
   "outputs": [],
   "source": [
    "embedded_data.head()"
   ]
  },
  {
   "cell_type": "markdown",
   "metadata": {},
   "source": [
    "# ---------------------------------------------------------------------------------------------------------------"
   ]
  },
  {
   "cell_type": "markdown",
   "metadata": {},
   "source": [
    "# Using Logistic Regression"
   ]
  },
  {
   "cell_type": "code",
   "execution_count": null,
   "metadata": {},
   "outputs": [],
   "source": [
    "sampled_embedded_data=embedded_data.sample(n=len(embedded_data))"
   ]
  },
  {
   "cell_type": "code",
   "execution_count": null,
   "metadata": {},
   "outputs": [],
   "source": [
    "lr_X_train,lr_X_test,lr_y_train,lr_y_test=train_test_split(sampled_embedded_data.drop(\"Category Name\",axis=1),sampled_embedded_data[\"Category Name\"],test_size=0.25)"
   ]
  },
  {
   "cell_type": "markdown",
   "metadata": {},
   "source": [
    "#### Train Model"
   ]
  },
  {
   "cell_type": "code",
   "execution_count": null,
   "metadata": {},
   "outputs": [],
   "source": [
    "print(\"First Logistic Regression\\n\")\n",
    "print(\"Start Time : {}\\n\".format(str(datetime.datetime.now())))\n",
    "classifier_lr=LR(solver=\"newton-cg\",multi_class=\"multinomial\",n_jobs=-1,warm_start=True)\n",
    "classifier_lr.fit(lr_X_train,lr_y_train)\n",
    "report_lr=classification_report(lr_y_test,classifier_lr.predict(lr_X_test))\n",
    "print(\"Finish Time : {}\\n\".format(str(datetime.datetime.now())))\n",
    "print(\"Accuracy : {}\".format(classifier_lr.score(lr_X_test,lr_y_test)))"
   ]
  },
  {
   "cell_type": "markdown",
   "metadata": {},
   "source": [
    "#### Save Model"
   ]
  },
  {
   "cell_type": "code",
   "execution_count": null,
   "metadata": {},
   "outputs": [],
   "source": [
    "#save model\n",
    "pickle.dump(classifier_lr, open(\"model/{}/classifier_lr.pickle\".format(version), 'wb'))"
   ]
  },
  {
   "cell_type": "markdown",
   "metadata": {},
   "source": [
    "#### Feed Probability Prediction To Another Logistic Regression"
   ]
  },
  {
   "cell_type": "code",
   "execution_count": null,
   "metadata": {},
   "outputs": [],
   "source": [
    "lr_second_X_train,lr_second_X_test,lr_second_y_train,lr_second_y_test=train_test_split(classifier_lr.predict_proba(sampled_embedded_data.drop(\"Category Name\",axis=1)),sampled_embedded_data[\"Category Name\"],test_size=0.25)"
   ]
  },
  {
   "cell_type": "code",
   "execution_count": null,
   "metadata": {},
   "outputs": [],
   "source": [
    "print(\"Second Logistic Regression\\n\")\n",
    "print(\"Start Time : {}\\n\".format(str(datetime.datetime.now())))\n",
    "second_classifier_lr=LR(n_jobs=-1)\n",
    "second_classifier_lr.fit(lr_second_X_train,lr_second_y_train)\n",
    "second_report_lr=classification_report(lr_second_y_test,second_classifier_lr.predict(lr_second_X_test))\n",
    "print(\"Finish Time : {}\\n\".format(str(datetime.datetime.now())))\n",
    "print(\"Accuracy : {}\".format(second_classifier_lr.score(lr_second_X_test,lr_second_y_test)))"
   ]
  },
  {
   "cell_type": "markdown",
   "metadata": {},
   "source": [
    "#### Save Second Model"
   ]
  },
  {
   "cell_type": "code",
   "execution_count": null,
   "metadata": {},
   "outputs": [],
   "source": [
    "#save model\n",
    "pickle.dump(second_classifier_lr, open(\"model/{}/second_classifier_lr.pickle\".format(version), 'wb'))"
   ]
  },
  {
   "cell_type": "markdown",
   "metadata": {},
   "source": [
    "# ---------------------------------------------------------------------------------------------------------------"
   ]
  },
  {
   "cell_type": "markdown",
   "metadata": {},
   "source": [
    "# Using Support Vector Machine"
   ]
  },
  {
   "cell_type": "code",
   "execution_count": null,
   "metadata": {},
   "outputs": [],
   "source": [
    "sampled_embedded_data=embedded_data.sample(n=len(embedded_data))"
   ]
  },
  {
   "cell_type": "code",
   "execution_count": null,
   "metadata": {},
   "outputs": [],
   "source": [
    "svm_X_train,svm_X_test,svm_y_train,svm_y_test=train_test_split(sampled_embedded_data.drop(\"Category Name\",axis=1),sampled_embedded_data[\"Category Name\"],test_size=0.25)"
   ]
  },
  {
   "cell_type": "markdown",
   "metadata": {},
   "source": [
    "#### Train Model With Optimization"
   ]
  },
  {
   "cell_type": "code",
   "execution_count": null,
   "metadata": {},
   "outputs": [],
   "source": [
    "print(\"Start Time : {}\\n\".format(str(datetime.datetime.now())))\n",
    "param_grid={\"C\":[1,10,100,1000],\"gamma\":[0.01,0.1,1,10],\"kernel\":[\"rbf\",\"linear\"]}\n",
    "classifier_svm=SVC(verbose=0)\n",
    "optimizer_svm=GS(classifier_svm,param_grid,scoring=\"accuracy\",verbose=4)\n",
    "optimizer_svm.fit(svm_X_train,svm_y_train)\n",
    "report_svm=classification_report(svm_y_test,optimizer_svm.predict(svm_X_test))\n",
    "print(\"Finish Time : {}\\n\".format(str(datetime.datetime.now())))\n",
    "print(\"Accuracy : {}\".format(optimizer_svm.score(svm_X_test,svm_y_test)))"
   ]
  },
  {
   "cell_type": "code",
   "execution_count": null,
   "metadata": {},
   "outputs": [],
   "source": [
    "print(\"Best Hyperparameters\")\n",
    "optimizer_svm.best_params_"
   ]
  },
  {
   "cell_type": "markdown",
   "metadata": {},
   "source": [
    "#### Train Model No Optimization"
   ]
  },
  {
   "cell_type": "code",
   "execution_count": null,
   "metadata": {},
   "outputs": [],
   "source": [
    "print(\"Start Time : {}\\n\".format(str(datetime.datetime.now())))\n",
    "\n",
    "classifier_svm=SVC(C=10,gamma=0.01,kernel='rbf')\n",
    "classifier_svm.fit(svm_X_train,svm_y_train)\n",
    "report_svm=classification_report(svm_y_test,classifier_svm.predict(svm_X_test))\n",
    "print(\"Finish Time : {}\\n\".format(str(datetime.datetime.now())))\n",
    "print(\"Accuracy : {}\".format(classifier_svm.score(svm_X_test,svm_y_test)))"
   ]
  },
  {
   "cell_type": "markdown",
   "metadata": {},
   "source": [
    "#### Save Model"
   ]
  },
  {
   "cell_type": "code",
   "execution_count": null,
   "metadata": {},
   "outputs": [],
   "source": [
    "#save model\n",
    "pickle.dump(classifier_svm, open(\"model/{}/classifier_svm.pickle\".format(version), 'wb'))"
   ]
  },
  {
   "cell_type": "markdown",
   "metadata": {},
   "source": [
    "# ---------------------------------------------------------------------------------------------------------------"
   ]
  }
 ],
 "metadata": {
  "kernelspec": {
   "display_name": "Python 3",
   "language": "python",
   "name": "python3"
  },
  "language_info": {
   "codemirror_mode": {
    "name": "ipython",
    "version": 3
   },
   "file_extension": ".py",
   "mimetype": "text/x-python",
   "name": "python",
   "nbconvert_exporter": "python",
   "pygments_lexer": "ipython3",
   "version": "3.6.4"
  }
 },
 "nbformat": 4,
 "nbformat_minor": 2
}
