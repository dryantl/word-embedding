{
 "cells": [
  {
   "cell_type": "markdown",
   "metadata": {},
   "source": [
    "# Import Useful Modules "
   ]
  },
  {
   "cell_type": "code",
   "execution_count": 7,
   "metadata": {},
   "outputs": [],
   "source": [
    "import numpy as np\n",
    "import pandas as pd\n",
    "import matplotlib.pyplot as plt\n",
    "from time import gmtime, strftime\n",
    "import time\n",
    "import datetime\n",
    "from collections import Counter\n",
    "import pickle\n",
    "\n",
    "from sklearn.model_selection import train_test_split\n",
    "from sklearn.metrics import classification_report\n",
    "\n",
    "# Preprocessing\n",
    "from sklearn.preprocessing import LabelEncoder, OneHotEncoder\n",
    "\n",
    "# Embedder\n",
    "from gensim.models import FastText\n",
    "\n",
    "# Classifier\n",
    "from sklearn.svm import SVC\n",
    "from sklearn.ensemble import GradientBoostingClassifier as GBC\n",
    "from sklearn.linear_model import LogisticRegression as LR\n",
    "from sklearn.ensemble import RandomForestClassifier as RFC\n",
    "from sklearn.grid_search import GridSearchCV as GS\n",
    "\n",
    "from keras.models import Sequential, load_model\n",
    "from keras.layers import Dense, Activation, Dropout\n",
    "from keras.utils import to_categorical"
   ]
  },
  {
   "cell_type": "markdown",
   "metadata": {},
   "source": [
    "# ---------------------------------------------------------------------------------------------------------------"
   ]
  },
  {
   "cell_type": "markdown",
   "metadata": {},
   "source": [
    "# Import Model"
   ]
  },
  {
   "cell_type": "code",
   "execution_count": 51,
   "metadata": {},
   "outputs": [],
   "source": [
    "with open(\"model/version_1/preprocessing_pipeline.pickle\", \"rb\") as file:\n",
    "    preprocessing_pipeline = pickle.load(file)\n",
    "    \n",
    "with open(\"model/version_1/word_embedder.pickle\", \"rb\") as file:\n",
    "    word_embedder = pickle.load(file)\n",
    "\n",
    "with open(\"model/version_1/classifier_lr.pickle\", \"rb\") as file:\n",
    "    logistic_regression = pickle.load(file)\n",
    "\n",
    "with open(\"model/version_1/classifier_svm.pickle\", \"rb\") as file:\n",
    "    support_vector_machine = pickle.load(file)\n",
    "    \n",
    "neural_network = load_model(\"model/version_1/classifer_nn(keras).h5\")"
   ]
  },
  {
   "cell_type": "markdown",
   "metadata": {},
   "source": [
    "## Check"
   ]
  },
  {
   "cell_type": "markdown",
   "metadata": {},
   "source": [
    "#### Preprocessing"
   ]
  },
  {
   "cell_type": "code",
   "execution_count": 52,
   "metadata": {},
   "outputs": [
    {
     "data": {
      "text/plain": [
       "{'preprocess_data': <function __main__.preprocess_data>,\n",
       " 'remove_parentheses': <function __main__.remove_parentheses>,\n",
       " 'vectorize_sentence': <function __main__.vectorize_sentence>,\n",
       " 'vectorize_word': <function __main__.vectorize_word>}"
      ]
     },
     "execution_count": 52,
     "metadata": {},
     "output_type": "execute_result"
    }
   ],
   "source": [
    "preprocessing_pipeline"
   ]
  },
  {
   "cell_type": "markdown",
   "metadata": {},
   "source": [
    "#### Word Embedding"
   ]
  },
  {
   "cell_type": "code",
   "execution_count": 13,
   "metadata": {},
   "outputs": [
    {
     "data": {
      "text/plain": [
       "<gensim.models.fasttext.FastText at 0x284c0c8400>"
      ]
     },
     "execution_count": 13,
     "metadata": {},
     "output_type": "execute_result"
    }
   ],
   "source": [
    "word_embedder"
   ]
  },
  {
   "cell_type": "markdown",
   "metadata": {},
   "source": [
    "#### Classifier"
   ]
  },
  {
   "cell_type": "code",
   "execution_count": 14,
   "metadata": {},
   "outputs": [
    {
     "data": {
      "text/plain": [
       "LogisticRegression(C=1.0, class_weight=None, dual=False, fit_intercept=True,\n",
       "          intercept_scaling=1, max_iter=100, multi_class='multinomial',\n",
       "          n_jobs=-1, penalty='l2', random_state=None, solver='newton-cg',\n",
       "          tol=0.0001, verbose=0, warm_start=True)"
      ]
     },
     "execution_count": 14,
     "metadata": {},
     "output_type": "execute_result"
    }
   ],
   "source": [
    "logistic_regression"
   ]
  },
  {
   "cell_type": "code",
   "execution_count": 15,
   "metadata": {},
   "outputs": [
    {
     "data": {
      "text/plain": [
       "SVC(C=10, cache_size=200, class_weight=None, coef0=0.0,\n",
       "  decision_function_shape='ovr', degree=3, gamma=0.01, kernel='rbf',\n",
       "  max_iter=-1, probability=False, random_state=None, shrinking=True,\n",
       "  tol=0.001, verbose=False)"
      ]
     },
     "execution_count": 15,
     "metadata": {},
     "output_type": "execute_result"
    }
   ],
   "source": [
    "support_vector_machine"
   ]
  },
  {
   "cell_type": "code",
   "execution_count": 12,
   "metadata": {},
   "outputs": [
    {
     "data": {
      "text/plain": [
       "<keras.models.Sequential at 0x284032b748>"
      ]
     },
     "execution_count": 12,
     "metadata": {},
     "output_type": "execute_result"
    }
   ],
   "source": [
    "neural_network"
   ]
  },
  {
   "cell_type": "markdown",
   "metadata": {},
   "source": [
    "# ---------------------------------------------------------------------------------------------------------------"
   ]
  },
  {
   "cell_type": "markdown",
   "metadata": {},
   "source": [
    "# Read Data To Pandas Dataframe"
   ]
  },
  {
   "cell_type": "code",
   "execution_count": 17,
   "metadata": {},
   "outputs": [],
   "source": [
    "# data untuk klasifikasi kategori produk\n",
    "data_for_classification=pd.read_csv(\"data/product_data.csv\")"
   ]
  },
  {
   "cell_type": "code",
   "execution_count": 40,
   "metadata": {},
   "outputs": [
    {
     "data": {
      "text/html": [
       "<div>\n",
       "<style scoped>\n",
       "    .dataframe tbody tr th:only-of-type {\n",
       "        vertical-align: middle;\n",
       "    }\n",
       "\n",
       "    .dataframe tbody tr th {\n",
       "        vertical-align: top;\n",
       "    }\n",
       "\n",
       "    .dataframe thead th {\n",
       "        text-align: right;\n",
       "    }\n",
       "</style>\n",
       "<table border=\"1\" class=\"dataframe\">\n",
       "  <thead>\n",
       "    <tr style=\"text-align: right;\">\n",
       "      <th></th>\n",
       "      <th>Product Id</th>\n",
       "      <th>Category Id</th>\n",
       "      <th>Category Name</th>\n",
       "      <th>Product Title</th>\n",
       "    </tr>\n",
       "  </thead>\n",
       "  <tbody>\n",
       "    <tr>\n",
       "      <th>0</th>\n",
       "      <td>114628582</td>\n",
       "      <td>2</td>\n",
       "      <td>Desktop</td>\n",
       "      <td>PC HP Pavillion 251VGA-i5(4460) with LED-20</td>\n",
       "    </tr>\n",
       "    <tr>\n",
       "      <th>1</th>\n",
       "      <td>640569762</td>\n",
       "      <td>2</td>\n",
       "      <td>Desktop</td>\n",
       "      <td>Unik SanDisk Flashdisk 64GB Ultra USB 3 3 0 Fl...</td>\n",
       "    </tr>\n",
       "    <tr>\n",
       "      <th>2</th>\n",
       "      <td>757005547</td>\n",
       "      <td>2</td>\n",
       "      <td>Desktop</td>\n",
       "      <td>Paket Spek PC Agan Bagas 2</td>\n",
       "    </tr>\n",
       "    <tr>\n",
       "      <th>3</th>\n",
       "      <td>758393462</td>\n",
       "      <td>2</td>\n",
       "      <td>Desktop</td>\n",
       "      <td>PAket Spek PC Agan JP Wogo</td>\n",
       "    </tr>\n",
       "    <tr>\n",
       "      <th>4</th>\n",
       "      <td>757008997</td>\n",
       "      <td>2</td>\n",
       "      <td>Desktop</td>\n",
       "      <td>PC HP All In One AIO 20 C303D</td>\n",
       "    </tr>\n",
       "  </tbody>\n",
       "</table>\n",
       "</div>"
      ],
      "text/plain": [
       "   Product Id  Category Id Category Name  \\\n",
       "0   114628582            2       Desktop   \n",
       "1   640569762            2       Desktop   \n",
       "2   757005547            2       Desktop   \n",
       "3   758393462            2       Desktop   \n",
       "4   757008997            2       Desktop   \n",
       "\n",
       "                                       Product Title  \n",
       "0       PC HP Pavillion 251VGA-i5(4460) with LED-20   \n",
       "1  Unik SanDisk Flashdisk 64GB Ultra USB 3 3 0 Fl...  \n",
       "2                         Paket Spek PC Agan Bagas 2  \n",
       "3                         PAket Spek PC Agan JP Wogo  \n",
       "4                      PC HP All In One AIO 20 C303D  "
      ]
     },
     "execution_count": 40,
     "metadata": {},
     "output_type": "execute_result"
    }
   ],
   "source": [
    "data_for_classification.head()"
   ]
  },
  {
   "cell_type": "markdown",
   "metadata": {},
   "source": [
    "### Preprocess Data"
   ]
  },
  {
   "cell_type": "code",
   "execution_count": 55,
   "metadata": {},
   "outputs": [
    {
     "name": "stderr",
     "output_type": "stream",
     "text": [
      "D:\\Program\\Anaconda\\lib\\site-packages\\ipykernel_launcher.py:13: DeprecationWarning: Call to deprecated `__getitem__` (Method will be removed in 4.0.0, use self.wv.__getitem__() instead).\n",
      "  del sys.path[0]\n"
     ]
    }
   ],
   "source": [
    "#preprocess product title to 100-dimensional vector\n",
    "#and preprocess category name to integer label\n",
    "embedded_data, label_encoder = preprocessing_pipeline[\"preprocess_data\"](\n",
    "    data_for_classification[\"Product Title\"],\n",
    "    data_for_classification[\"Category Name\"],\n",
    "    word_embedder.vector_size,\n",
    "    word_embedder\n",
    ")"
   ]
  },
  {
   "cell_type": "code",
   "execution_count": 59,
   "metadata": {},
   "outputs": [
    {
     "data": {
      "text/html": [
       "<div>\n",
       "<style scoped>\n",
       "    .dataframe tbody tr th:only-of-type {\n",
       "        vertical-align: middle;\n",
       "    }\n",
       "\n",
       "    .dataframe tbody tr th {\n",
       "        vertical-align: top;\n",
       "    }\n",
       "\n",
       "    .dataframe thead th {\n",
       "        text-align: right;\n",
       "    }\n",
       "</style>\n",
       "<table border=\"1\" class=\"dataframe\">\n",
       "  <thead>\n",
       "    <tr style=\"text-align: right;\">\n",
       "      <th></th>\n",
       "      <th>0</th>\n",
       "      <th>1</th>\n",
       "      <th>2</th>\n",
       "      <th>3</th>\n",
       "      <th>4</th>\n",
       "      <th>5</th>\n",
       "      <th>6</th>\n",
       "      <th>7</th>\n",
       "      <th>8</th>\n",
       "      <th>9</th>\n",
       "      <th>...</th>\n",
       "      <th>91</th>\n",
       "      <th>92</th>\n",
       "      <th>93</th>\n",
       "      <th>94</th>\n",
       "      <th>95</th>\n",
       "      <th>96</th>\n",
       "      <th>97</th>\n",
       "      <th>98</th>\n",
       "      <th>99</th>\n",
       "      <th>Labels</th>\n",
       "    </tr>\n",
       "  </thead>\n",
       "  <tbody>\n",
       "    <tr>\n",
       "      <th>0</th>\n",
       "      <td>-1.353583</td>\n",
       "      <td>-3.171900</td>\n",
       "      <td>1.371736</td>\n",
       "      <td>0.123707</td>\n",
       "      <td>-0.620160</td>\n",
       "      <td>1.464381</td>\n",
       "      <td>1.222380</td>\n",
       "      <td>-4.205549</td>\n",
       "      <td>-0.133768</td>\n",
       "      <td>-2.833227</td>\n",
       "      <td>...</td>\n",
       "      <td>3.284703</td>\n",
       "      <td>2.795318</td>\n",
       "      <td>-0.214330</td>\n",
       "      <td>0.750985</td>\n",
       "      <td>-1.134297</td>\n",
       "      <td>-2.441089</td>\n",
       "      <td>-0.397881</td>\n",
       "      <td>-0.623074</td>\n",
       "      <td>-0.853460</td>\n",
       "      <td>60</td>\n",
       "    </tr>\n",
       "    <tr>\n",
       "      <th>1</th>\n",
       "      <td>-1.411664</td>\n",
       "      <td>-3.624061</td>\n",
       "      <td>-0.124707</td>\n",
       "      <td>1.157138</td>\n",
       "      <td>-2.769813</td>\n",
       "      <td>0.722179</td>\n",
       "      <td>1.752806</td>\n",
       "      <td>-6.023485</td>\n",
       "      <td>1.032547</td>\n",
       "      <td>-3.752555</td>\n",
       "      <td>...</td>\n",
       "      <td>5.373015</td>\n",
       "      <td>2.577363</td>\n",
       "      <td>1.723452</td>\n",
       "      <td>0.312116</td>\n",
       "      <td>1.192225</td>\n",
       "      <td>-4.973745</td>\n",
       "      <td>3.088582</td>\n",
       "      <td>0.075678</td>\n",
       "      <td>3.797503</td>\n",
       "      <td>60</td>\n",
       "    </tr>\n",
       "    <tr>\n",
       "      <th>2</th>\n",
       "      <td>-1.210998</td>\n",
       "      <td>-1.521540</td>\n",
       "      <td>-0.512093</td>\n",
       "      <td>1.162975</td>\n",
       "      <td>-0.206553</td>\n",
       "      <td>0.776194</td>\n",
       "      <td>1.275206</td>\n",
       "      <td>-1.973089</td>\n",
       "      <td>-0.176616</td>\n",
       "      <td>-2.115182</td>\n",
       "      <td>...</td>\n",
       "      <td>1.901303</td>\n",
       "      <td>1.018535</td>\n",
       "      <td>0.845923</td>\n",
       "      <td>0.409504</td>\n",
       "      <td>-0.487097</td>\n",
       "      <td>-1.452161</td>\n",
       "      <td>0.795725</td>\n",
       "      <td>-1.173649</td>\n",
       "      <td>1.033765</td>\n",
       "      <td>60</td>\n",
       "    </tr>\n",
       "    <tr>\n",
       "      <th>3</th>\n",
       "      <td>-0.620240</td>\n",
       "      <td>-1.366821</td>\n",
       "      <td>-0.797583</td>\n",
       "      <td>1.449532</td>\n",
       "      <td>-0.178919</td>\n",
       "      <td>0.559059</td>\n",
       "      <td>1.577674</td>\n",
       "      <td>-2.021882</td>\n",
       "      <td>-0.063093</td>\n",
       "      <td>-1.323352</td>\n",
       "      <td>...</td>\n",
       "      <td>1.725400</td>\n",
       "      <td>0.725442</td>\n",
       "      <td>0.841356</td>\n",
       "      <td>0.316991</td>\n",
       "      <td>-0.575546</td>\n",
       "      <td>-1.296193</td>\n",
       "      <td>0.435206</td>\n",
       "      <td>-0.329237</td>\n",
       "      <td>0.069929</td>\n",
       "      <td>60</td>\n",
       "    </tr>\n",
       "    <tr>\n",
       "      <th>4</th>\n",
       "      <td>-0.494332</td>\n",
       "      <td>-4.235569</td>\n",
       "      <td>0.269955</td>\n",
       "      <td>-0.220324</td>\n",
       "      <td>0.461205</td>\n",
       "      <td>1.288682</td>\n",
       "      <td>1.095711</td>\n",
       "      <td>-5.439537</td>\n",
       "      <td>1.180161</td>\n",
       "      <td>-2.108301</td>\n",
       "      <td>...</td>\n",
       "      <td>5.432500</td>\n",
       "      <td>1.697883</td>\n",
       "      <td>-0.479877</td>\n",
       "      <td>-0.556010</td>\n",
       "      <td>-1.109091</td>\n",
       "      <td>-0.888318</td>\n",
       "      <td>0.026072</td>\n",
       "      <td>0.021216</td>\n",
       "      <td>0.143521</td>\n",
       "      <td>60</td>\n",
       "    </tr>\n",
       "  </tbody>\n",
       "</table>\n",
       "<p>5 rows × 101 columns</p>\n",
       "</div>"
      ],
      "text/plain": [
       "          0         1         2         3         4         5         6  \\\n",
       "0 -1.353583 -3.171900  1.371736  0.123707 -0.620160  1.464381  1.222380   \n",
       "1 -1.411664 -3.624061 -0.124707  1.157138 -2.769813  0.722179  1.752806   \n",
       "2 -1.210998 -1.521540 -0.512093  1.162975 -0.206553  0.776194  1.275206   \n",
       "3 -0.620240 -1.366821 -0.797583  1.449532 -0.178919  0.559059  1.577674   \n",
       "4 -0.494332 -4.235569  0.269955 -0.220324  0.461205  1.288682  1.095711   \n",
       "\n",
       "          7         8         9   ...          91        92        93  \\\n",
       "0 -4.205549 -0.133768 -2.833227   ...    3.284703  2.795318 -0.214330   \n",
       "1 -6.023485  1.032547 -3.752555   ...    5.373015  2.577363  1.723452   \n",
       "2 -1.973089 -0.176616 -2.115182   ...    1.901303  1.018535  0.845923   \n",
       "3 -2.021882 -0.063093 -1.323352   ...    1.725400  0.725442  0.841356   \n",
       "4 -5.439537  1.180161 -2.108301   ...    5.432500  1.697883 -0.479877   \n",
       "\n",
       "         94        95        96        97        98        99  Labels  \n",
       "0  0.750985 -1.134297 -2.441089 -0.397881 -0.623074 -0.853460      60  \n",
       "1  0.312116  1.192225 -4.973745  3.088582  0.075678  3.797503      60  \n",
       "2  0.409504 -0.487097 -1.452161  0.795725 -1.173649  1.033765      60  \n",
       "3  0.316991 -0.575546 -1.296193  0.435206 -0.329237  0.069929      60  \n",
       "4 -0.556010 -1.109091 -0.888318  0.026072  0.021216  0.143521      60  \n",
       "\n",
       "[5 rows x 101 columns]"
      ]
     },
     "execution_count": 59,
     "metadata": {},
     "output_type": "execute_result"
    }
   ],
   "source": [
    "embedded_data.head()"
   ]
  },
  {
   "cell_type": "code",
   "execution_count": 60,
   "metadata": {},
   "outputs": [
    {
     "data": {
      "text/plain": [
       "LabelEncoder()"
      ]
     },
     "execution_count": 60,
     "metadata": {},
     "output_type": "execute_result"
    }
   ],
   "source": [
    "label_encoder"
   ]
  },
  {
   "cell_type": "markdown",
   "metadata": {},
   "source": [
    "# ---------------------------------------------------------------------------------------------------------------"
   ]
  }
 ],
 "metadata": {
  "kernelspec": {
   "display_name": "Python 3",
   "language": "python",
   "name": "python3"
  },
  "language_info": {
   "codemirror_mode": {
    "name": "ipython",
    "version": 3
   },
   "file_extension": ".py",
   "mimetype": "text/x-python",
   "name": "python",
   "nbconvert_exporter": "python",
   "pygments_lexer": "ipython3",
   "version": "3.6.4"
  }
 },
 "nbformat": 4,
 "nbformat_minor": 2
}
