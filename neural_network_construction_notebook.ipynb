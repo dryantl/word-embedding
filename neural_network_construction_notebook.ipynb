{
 "cells": [
  {
   "cell_type": "markdown",
   "metadata": {},
   "source": [
    "# Import Useful Modules "
   ]
  },
  {
   "cell_type": "code",
   "execution_count": 36,
   "metadata": {},
   "outputs": [],
   "source": [
    "import numpy as np\n",
    "import pandas as pd\n",
    "import matplotlib.pyplot as plt\n",
    "from time import gmtime, strftime\n",
    "import time\n",
    "import datetime\n",
    "from collections import Counter\n",
    "import pickle\n",
    "\n",
    "from sklearn.model_selection import train_test_split\n",
    "from sklearn.metrics import classification_report\n",
    "\n",
    "# Preprocessing\n",
    "from sklearn.preprocessing import LabelEncoder, OneHotEncoder\n",
    "\n",
    "# Embedder\n",
    "from gensim.models import FastText\n",
    "\n",
    "# Classifier\n",
    "from sklearn.svm import SVC\n",
    "from sklearn.ensemble import GradientBoostingClassifier as GBC\n",
    "from sklearn.linear_model import LogisticRegression as LR\n",
    "from sklearn.ensemble import RandomForestClassifier as RFC\n",
    "from sklearn.grid_search import GridSearchCV as GS\n",
    "from sklearn.model_selection import validation_curve, learning_curve\n",
    "from sklearn.decomposition import PCA\n",
    "from sklearn.preprocessing import PolynomialFeatures as Poly\n",
    "\n",
    "from keras.models import Sequential, load_model\n",
    "from keras.layers import Dense, Activation, Dropout\n",
    "from keras.utils import to_categorical"
   ]
  },
  {
   "cell_type": "code",
   "execution_count": 37,
   "metadata": {},
   "outputs": [],
   "source": [
    "#Determine Model's File Location\n",
    "\n",
    "version = \"version_2\""
   ]
  },
  {
   "cell_type": "markdown",
   "metadata": {},
   "source": [
    "# ---------------------------------------------------------------------------------------------------------------"
   ]
  },
  {
   "cell_type": "markdown",
   "metadata": {},
   "source": [
    "# Import Model"
   ]
  },
  {
   "cell_type": "code",
   "execution_count": 38,
   "metadata": {},
   "outputs": [],
   "source": [
    "from preprocessing_pipeline import preprocessing"
   ]
  },
  {
   "cell_type": "code",
   "execution_count": 39,
   "metadata": {},
   "outputs": [],
   "source": [
    "with open(\"model/{}/word_embedder.pickle\".format(version), \"rb\") as file:\n",
    "    word_embedder = pickle.load(file)"
   ]
  },
  {
   "cell_type": "markdown",
   "metadata": {},
   "source": [
    "## Check"
   ]
  },
  {
   "cell_type": "markdown",
   "metadata": {},
   "source": [
    "#### Preprocessing"
   ]
  },
  {
   "cell_type": "code",
   "execution_count": 40,
   "metadata": {},
   "outputs": [
    {
     "data": {
      "text/plain": [
       "<preprocessing_pipeline.preprocessing at 0x71dabdb908>"
      ]
     },
     "execution_count": 40,
     "metadata": {},
     "output_type": "execute_result"
    }
   ],
   "source": [
    "preprocessor=preprocessing(word_embedder.vector_size,word_embedder)\n",
    "preprocessor"
   ]
  },
  {
   "cell_type": "markdown",
   "metadata": {},
   "source": [
    "#### Word Embedding"
   ]
  },
  {
   "cell_type": "code",
   "execution_count": 41,
   "metadata": {},
   "outputs": [
    {
     "data": {
      "text/plain": [
       "<gensim.models.fasttext.FastText at 0x71b2a9e8d0>"
      ]
     },
     "execution_count": 41,
     "metadata": {},
     "output_type": "execute_result"
    }
   ],
   "source": [
    "word_embedder"
   ]
  },
  {
   "cell_type": "markdown",
   "metadata": {},
   "source": [
    "# ---------------------------------------------------------------------------------------------------------------"
   ]
  },
  {
   "cell_type": "markdown",
   "metadata": {},
   "source": [
    "# Read Data To Pandas Dataframe"
   ]
  },
  {
   "cell_type": "markdown",
   "metadata": {},
   "source": [
    "##### 30000 Data"
   ]
  },
  {
   "cell_type": "code",
   "execution_count": 42,
   "metadata": {},
   "outputs": [],
   "source": [
    "# data untuk klasifikasi kategori produk\n",
    "data_for_classification=pd.read_csv(\"data/product_data.csv\")"
   ]
  },
  {
   "cell_type": "code",
   "execution_count": 43,
   "metadata": {},
   "outputs": [
    {
     "data": {
      "text/html": [
       "<div>\n",
       "<style scoped>\n",
       "    .dataframe tbody tr th:only-of-type {\n",
       "        vertical-align: middle;\n",
       "    }\n",
       "\n",
       "    .dataframe tbody tr th {\n",
       "        vertical-align: top;\n",
       "    }\n",
       "\n",
       "    .dataframe thead th {\n",
       "        text-align: right;\n",
       "    }\n",
       "</style>\n",
       "<table border=\"1\" class=\"dataframe\">\n",
       "  <thead>\n",
       "    <tr style=\"text-align: right;\">\n",
       "      <th></th>\n",
       "      <th>Product Id</th>\n",
       "      <th>Category Id</th>\n",
       "      <th>Category Name</th>\n",
       "      <th>Product Title</th>\n",
       "    </tr>\n",
       "  </thead>\n",
       "  <tbody>\n",
       "    <tr>\n",
       "      <th>0</th>\n",
       "      <td>114628582</td>\n",
       "      <td>2</td>\n",
       "      <td>Desktop</td>\n",
       "      <td>PC HP Pavillion 251VGA-i5(4460) with LED-20</td>\n",
       "    </tr>\n",
       "    <tr>\n",
       "      <th>1</th>\n",
       "      <td>640569762</td>\n",
       "      <td>2</td>\n",
       "      <td>Desktop</td>\n",
       "      <td>Unik SanDisk Flashdisk 64GB Ultra USB 3 3 0 Fl...</td>\n",
       "    </tr>\n",
       "    <tr>\n",
       "      <th>2</th>\n",
       "      <td>757005547</td>\n",
       "      <td>2</td>\n",
       "      <td>Desktop</td>\n",
       "      <td>Paket Spek PC Agan Bagas 2</td>\n",
       "    </tr>\n",
       "    <tr>\n",
       "      <th>3</th>\n",
       "      <td>758393462</td>\n",
       "      <td>2</td>\n",
       "      <td>Desktop</td>\n",
       "      <td>PAket Spek PC Agan JP Wogo</td>\n",
       "    </tr>\n",
       "    <tr>\n",
       "      <th>4</th>\n",
       "      <td>757008997</td>\n",
       "      <td>2</td>\n",
       "      <td>Desktop</td>\n",
       "      <td>PC HP All In One AIO 20 C303D</td>\n",
       "    </tr>\n",
       "  </tbody>\n",
       "</table>\n",
       "</div>"
      ],
      "text/plain": [
       "   Product Id  Category Id Category Name  \\\n",
       "0   114628582            2       Desktop   \n",
       "1   640569762            2       Desktop   \n",
       "2   757005547            2       Desktop   \n",
       "3   758393462            2       Desktop   \n",
       "4   757008997            2       Desktop   \n",
       "\n",
       "                                       Product Title  \n",
       "0       PC HP Pavillion 251VGA-i5(4460) with LED-20   \n",
       "1  Unik SanDisk Flashdisk 64GB Ultra USB 3 3 0 Fl...  \n",
       "2                         Paket Spek PC Agan Bagas 2  \n",
       "3                         PAket Spek PC Agan JP Wogo  \n",
       "4                      PC HP All In One AIO 20 C303D  "
      ]
     },
     "execution_count": 43,
     "metadata": {},
     "output_type": "execute_result"
    }
   ],
   "source": [
    "data_for_classification.head()"
   ]
  },
  {
   "cell_type": "markdown",
   "metadata": {},
   "source": [
    "##### 400000 Data"
   ]
  },
  {
   "cell_type": "code",
   "execution_count": 44,
   "metadata": {},
   "outputs": [],
   "source": [
    "large_data_for_classification=pd.read_csv(\"data/big.csv\",header=None)\n",
    "large_data_for_classification.dropna(axis=0,inplace=True)"
   ]
  },
  {
   "cell_type": "code",
   "execution_count": 45,
   "metadata": {},
   "outputs": [
    {
     "data": {
      "text/html": [
       "<div>\n",
       "<style scoped>\n",
       "    .dataframe tbody tr th:only-of-type {\n",
       "        vertical-align: middle;\n",
       "    }\n",
       "\n",
       "    .dataframe tbody tr th {\n",
       "        vertical-align: top;\n",
       "    }\n",
       "\n",
       "    .dataframe thead th {\n",
       "        text-align: right;\n",
       "    }\n",
       "</style>\n",
       "<table border=\"1\" class=\"dataframe\">\n",
       "  <thead>\n",
       "    <tr style=\"text-align: right;\">\n",
       "      <th></th>\n",
       "      <th>0</th>\n",
       "      <th>1</th>\n",
       "      <th>2</th>\n",
       "    </tr>\n",
       "  </thead>\n",
       "  <tbody>\n",
       "    <tr>\n",
       "      <th>0</th>\n",
       "      <td>hardware</td>\n",
       "      <td>KINGSTON+KVR1333D3N9</td>\n",
       "      <td>1510.0</td>\n",
       "    </tr>\n",
       "    <tr>\n",
       "      <th>1</th>\n",
       "      <td>musik</td>\n",
       "      <td>power+amplifier+wisdom+</td>\n",
       "      <td>62.0</td>\n",
       "    </tr>\n",
       "    <tr>\n",
       "      <th>2</th>\n",
       "      <td>outwear-motor</td>\n",
       "      <td>jas%20hujan%20anak</td>\n",
       "      <td>391.0</td>\n",
       "    </tr>\n",
       "    <tr>\n",
       "      <th>3</th>\n",
       "      <td>celana</td>\n",
       "      <td>Celana+bahan+formal</td>\n",
       "      <td>288.0</td>\n",
       "    </tr>\n",
       "    <tr>\n",
       "      <th>4</th>\n",
       "      <td>komputer</td>\n",
       "      <td>Preset+lightroom</td>\n",
       "      <td>1.0</td>\n",
       "    </tr>\n",
       "  </tbody>\n",
       "</table>\n",
       "</div>"
      ],
      "text/plain": [
       "               0                        1       2\n",
       "0       hardware     KINGSTON+KVR1333D3N9  1510.0\n",
       "1          musik  power+amplifier+wisdom+    62.0\n",
       "2  outwear-motor       jas%20hujan%20anak   391.0\n",
       "3         celana      Celana+bahan+formal   288.0\n",
       "4       komputer         Preset+lightroom     1.0"
      ]
     },
     "execution_count": 45,
     "metadata": {},
     "output_type": "execute_result"
    }
   ],
   "source": [
    "large_data_for_classification.head()"
   ]
  },
  {
   "cell_type": "markdown",
   "metadata": {},
   "source": [
    "### Preprocess Data"
   ]
  },
  {
   "cell_type": "markdown",
   "metadata": {},
   "source": [
    "##### 30000 Data"
   ]
  },
  {
   "cell_type": "code",
   "execution_count": 46,
   "metadata": {},
   "outputs": [],
   "source": [
    "#preprocess product title to 100-dimensional vector\n",
    "#and preprocess category name to integer label\n",
    "embedded_data, label_encoder = preprocessor.preprocess_data(\n",
    "    data_for_classification[\"Product Title\"],\n",
    "    data_for_classification[\"Category Name\"],\n",
    ")"
   ]
  },
  {
   "cell_type": "code",
   "execution_count": 47,
   "metadata": {},
   "outputs": [
    {
     "data": {
      "text/html": [
       "<div>\n",
       "<style scoped>\n",
       "    .dataframe tbody tr th:only-of-type {\n",
       "        vertical-align: middle;\n",
       "    }\n",
       "\n",
       "    .dataframe tbody tr th {\n",
       "        vertical-align: top;\n",
       "    }\n",
       "\n",
       "    .dataframe thead th {\n",
       "        text-align: right;\n",
       "    }\n",
       "</style>\n",
       "<table border=\"1\" class=\"dataframe\">\n",
       "  <thead>\n",
       "    <tr style=\"text-align: right;\">\n",
       "      <th></th>\n",
       "      <th>0</th>\n",
       "      <th>1</th>\n",
       "      <th>2</th>\n",
       "      <th>3</th>\n",
       "      <th>4</th>\n",
       "      <th>5</th>\n",
       "      <th>6</th>\n",
       "      <th>7</th>\n",
       "      <th>8</th>\n",
       "      <th>9</th>\n",
       "      <th>...</th>\n",
       "      <th>91</th>\n",
       "      <th>92</th>\n",
       "      <th>93</th>\n",
       "      <th>94</th>\n",
       "      <th>95</th>\n",
       "      <th>96</th>\n",
       "      <th>97</th>\n",
       "      <th>98</th>\n",
       "      <th>99</th>\n",
       "      <th>Labels</th>\n",
       "    </tr>\n",
       "  </thead>\n",
       "  <tbody>\n",
       "    <tr>\n",
       "      <th>0</th>\n",
       "      <td>-1.353583</td>\n",
       "      <td>-3.171900</td>\n",
       "      <td>1.371736</td>\n",
       "      <td>0.123707</td>\n",
       "      <td>-0.620160</td>\n",
       "      <td>1.464381</td>\n",
       "      <td>1.222380</td>\n",
       "      <td>-4.205549</td>\n",
       "      <td>-0.133768</td>\n",
       "      <td>-2.833227</td>\n",
       "      <td>...</td>\n",
       "      <td>3.284703</td>\n",
       "      <td>2.795318</td>\n",
       "      <td>-0.214330</td>\n",
       "      <td>0.750985</td>\n",
       "      <td>-1.134297</td>\n",
       "      <td>-2.441089</td>\n",
       "      <td>-0.397881</td>\n",
       "      <td>-0.623074</td>\n",
       "      <td>-0.853460</td>\n",
       "      <td>60</td>\n",
       "    </tr>\n",
       "    <tr>\n",
       "      <th>1</th>\n",
       "      <td>-1.411664</td>\n",
       "      <td>-3.624061</td>\n",
       "      <td>-0.124707</td>\n",
       "      <td>1.157138</td>\n",
       "      <td>-2.769813</td>\n",
       "      <td>0.722179</td>\n",
       "      <td>1.752806</td>\n",
       "      <td>-6.023485</td>\n",
       "      <td>1.032547</td>\n",
       "      <td>-3.752555</td>\n",
       "      <td>...</td>\n",
       "      <td>5.373015</td>\n",
       "      <td>2.577363</td>\n",
       "      <td>1.723452</td>\n",
       "      <td>0.312116</td>\n",
       "      <td>1.192225</td>\n",
       "      <td>-4.973745</td>\n",
       "      <td>3.088582</td>\n",
       "      <td>0.075678</td>\n",
       "      <td>3.797503</td>\n",
       "      <td>60</td>\n",
       "    </tr>\n",
       "    <tr>\n",
       "      <th>2</th>\n",
       "      <td>-1.210998</td>\n",
       "      <td>-1.521540</td>\n",
       "      <td>-0.512093</td>\n",
       "      <td>1.162975</td>\n",
       "      <td>-0.206553</td>\n",
       "      <td>0.776194</td>\n",
       "      <td>1.275206</td>\n",
       "      <td>-1.973089</td>\n",
       "      <td>-0.176616</td>\n",
       "      <td>-2.115182</td>\n",
       "      <td>...</td>\n",
       "      <td>1.901303</td>\n",
       "      <td>1.018535</td>\n",
       "      <td>0.845923</td>\n",
       "      <td>0.409504</td>\n",
       "      <td>-0.487097</td>\n",
       "      <td>-1.452161</td>\n",
       "      <td>0.795725</td>\n",
       "      <td>-1.173649</td>\n",
       "      <td>1.033765</td>\n",
       "      <td>60</td>\n",
       "    </tr>\n",
       "    <tr>\n",
       "      <th>3</th>\n",
       "      <td>-0.620240</td>\n",
       "      <td>-1.366821</td>\n",
       "      <td>-0.797583</td>\n",
       "      <td>1.449532</td>\n",
       "      <td>-0.178919</td>\n",
       "      <td>0.559059</td>\n",
       "      <td>1.577674</td>\n",
       "      <td>-2.021882</td>\n",
       "      <td>-0.063093</td>\n",
       "      <td>-1.323352</td>\n",
       "      <td>...</td>\n",
       "      <td>1.725400</td>\n",
       "      <td>0.725442</td>\n",
       "      <td>0.841356</td>\n",
       "      <td>0.316991</td>\n",
       "      <td>-0.575546</td>\n",
       "      <td>-1.296193</td>\n",
       "      <td>0.435206</td>\n",
       "      <td>-0.329237</td>\n",
       "      <td>0.069929</td>\n",
       "      <td>60</td>\n",
       "    </tr>\n",
       "    <tr>\n",
       "      <th>4</th>\n",
       "      <td>-0.494332</td>\n",
       "      <td>-4.235569</td>\n",
       "      <td>0.269955</td>\n",
       "      <td>-0.220324</td>\n",
       "      <td>0.461205</td>\n",
       "      <td>1.288682</td>\n",
       "      <td>1.095711</td>\n",
       "      <td>-5.439537</td>\n",
       "      <td>1.180161</td>\n",
       "      <td>-2.108301</td>\n",
       "      <td>...</td>\n",
       "      <td>5.432500</td>\n",
       "      <td>1.697883</td>\n",
       "      <td>-0.479877</td>\n",
       "      <td>-0.556010</td>\n",
       "      <td>-1.109091</td>\n",
       "      <td>-0.888318</td>\n",
       "      <td>0.026072</td>\n",
       "      <td>0.021216</td>\n",
       "      <td>0.143521</td>\n",
       "      <td>60</td>\n",
       "    </tr>\n",
       "  </tbody>\n",
       "</table>\n",
       "<p>5 rows × 101 columns</p>\n",
       "</div>"
      ],
      "text/plain": [
       "          0         1         2         3         4         5         6  \\\n",
       "0 -1.353583 -3.171900  1.371736  0.123707 -0.620160  1.464381  1.222380   \n",
       "1 -1.411664 -3.624061 -0.124707  1.157138 -2.769813  0.722179  1.752806   \n",
       "2 -1.210998 -1.521540 -0.512093  1.162975 -0.206553  0.776194  1.275206   \n",
       "3 -0.620240 -1.366821 -0.797583  1.449532 -0.178919  0.559059  1.577674   \n",
       "4 -0.494332 -4.235569  0.269955 -0.220324  0.461205  1.288682  1.095711   \n",
       "\n",
       "          7         8         9   ...          91        92        93  \\\n",
       "0 -4.205549 -0.133768 -2.833227   ...    3.284703  2.795318 -0.214330   \n",
       "1 -6.023485  1.032547 -3.752555   ...    5.373015  2.577363  1.723452   \n",
       "2 -1.973089 -0.176616 -2.115182   ...    1.901303  1.018535  0.845923   \n",
       "3 -2.021882 -0.063093 -1.323352   ...    1.725400  0.725442  0.841356   \n",
       "4 -5.439537  1.180161 -2.108301   ...    5.432500  1.697883 -0.479877   \n",
       "\n",
       "         94        95        96        97        98        99  Labels  \n",
       "0  0.750985 -1.134297 -2.441089 -0.397881 -0.623074 -0.853460      60  \n",
       "1  0.312116  1.192225 -4.973745  3.088582  0.075678  3.797503      60  \n",
       "2  0.409504 -0.487097 -1.452161  0.795725 -1.173649  1.033765      60  \n",
       "3  0.316991 -0.575546 -1.296193  0.435206 -0.329237  0.069929      60  \n",
       "4 -0.556010 -1.109091 -0.888318  0.026072  0.021216  0.143521      60  \n",
       "\n",
       "[5 rows x 101 columns]"
      ]
     },
     "execution_count": 47,
     "metadata": {},
     "output_type": "execute_result"
    }
   ],
   "source": [
    "embedded_data.head()"
   ]
  },
  {
   "cell_type": "code",
   "execution_count": 48,
   "metadata": {},
   "outputs": [
    {
     "data": {
      "text/plain": [
       "(30116, 101)"
      ]
     },
     "execution_count": 48,
     "metadata": {},
     "output_type": "execute_result"
    }
   ],
   "source": [
    "embedded_data.shape"
   ]
  },
  {
   "cell_type": "code",
   "execution_count": 49,
   "metadata": {},
   "outputs": [
    {
     "data": {
      "text/plain": [
       "LabelEncoder()"
      ]
     },
     "execution_count": 49,
     "metadata": {},
     "output_type": "execute_result"
    }
   ],
   "source": [
    "label_encoder"
   ]
  },
  {
   "cell_type": "markdown",
   "metadata": {},
   "source": [
    "##### 400000 Data"
   ]
  },
  {
   "cell_type": "code",
   "execution_count": 50,
   "metadata": {},
   "outputs": [],
   "source": [
    "#preprocess product title to 100-dimensional vector\n",
    "#and preprocess category name to integer label\n",
    "large_embedded_data, large_label_encoder = preprocessor.preprocess_data(\n",
    "    large_data_for_classification[1],\n",
    "    large_data_for_classification[0],\n",
    ")"
   ]
  },
  {
   "cell_type": "code",
   "execution_count": 51,
   "metadata": {},
   "outputs": [
    {
     "data": {
      "text/html": [
       "<div>\n",
       "<style scoped>\n",
       "    .dataframe tbody tr th:only-of-type {\n",
       "        vertical-align: middle;\n",
       "    }\n",
       "\n",
       "    .dataframe tbody tr th {\n",
       "        vertical-align: top;\n",
       "    }\n",
       "\n",
       "    .dataframe thead th {\n",
       "        text-align: right;\n",
       "    }\n",
       "</style>\n",
       "<table border=\"1\" class=\"dataframe\">\n",
       "  <thead>\n",
       "    <tr style=\"text-align: right;\">\n",
       "      <th></th>\n",
       "      <th>0</th>\n",
       "      <th>1</th>\n",
       "      <th>2</th>\n",
       "      <th>3</th>\n",
       "      <th>4</th>\n",
       "      <th>5</th>\n",
       "      <th>6</th>\n",
       "      <th>7</th>\n",
       "      <th>8</th>\n",
       "      <th>9</th>\n",
       "      <th>...</th>\n",
       "      <th>91</th>\n",
       "      <th>92</th>\n",
       "      <th>93</th>\n",
       "      <th>94</th>\n",
       "      <th>95</th>\n",
       "      <th>96</th>\n",
       "      <th>97</th>\n",
       "      <th>98</th>\n",
       "      <th>99</th>\n",
       "      <th>Labels</th>\n",
       "    </tr>\n",
       "  </thead>\n",
       "  <tbody>\n",
       "    <tr>\n",
       "      <th>0</th>\n",
       "      <td>-0.580157</td>\n",
       "      <td>-0.902683</td>\n",
       "      <td>-0.200629</td>\n",
       "      <td>0.426924</td>\n",
       "      <td>-0.298552</td>\n",
       "      <td>0.377382</td>\n",
       "      <td>0.334578</td>\n",
       "      <td>-1.341522</td>\n",
       "      <td>0.284654</td>\n",
       "      <td>-0.601798</td>\n",
       "      <td>...</td>\n",
       "      <td>0.714149</td>\n",
       "      <td>0.436149</td>\n",
       "      <td>0.067786</td>\n",
       "      <td>0.280465</td>\n",
       "      <td>-0.069688</td>\n",
       "      <td>0.040827</td>\n",
       "      <td>0.063288</td>\n",
       "      <td>0.042661</td>\n",
       "      <td>-0.402801</td>\n",
       "      <td>45</td>\n",
       "    </tr>\n",
       "    <tr>\n",
       "      <th>1</th>\n",
       "      <td>-0.151489</td>\n",
       "      <td>-1.193317</td>\n",
       "      <td>-0.412542</td>\n",
       "      <td>0.074164</td>\n",
       "      <td>-1.053800</td>\n",
       "      <td>0.283322</td>\n",
       "      <td>0.306509</td>\n",
       "      <td>-0.714775</td>\n",
       "      <td>-0.282685</td>\n",
       "      <td>-0.205421</td>\n",
       "      <td>...</td>\n",
       "      <td>1.560397</td>\n",
       "      <td>1.276572</td>\n",
       "      <td>-0.248248</td>\n",
       "      <td>0.154423</td>\n",
       "      <td>-0.181553</td>\n",
       "      <td>-0.448146</td>\n",
       "      <td>-0.126884</td>\n",
       "      <td>-0.248857</td>\n",
       "      <td>1.153092</td>\n",
       "      <td>68</td>\n",
       "    </tr>\n",
       "    <tr>\n",
       "      <th>2</th>\n",
       "      <td>-0.206052</td>\n",
       "      <td>-0.158160</td>\n",
       "      <td>-0.194283</td>\n",
       "      <td>0.238795</td>\n",
       "      <td>0.007292</td>\n",
       "      <td>0.196439</td>\n",
       "      <td>0.141539</td>\n",
       "      <td>-0.223540</td>\n",
       "      <td>0.046263</td>\n",
       "      <td>-0.282032</td>\n",
       "      <td>...</td>\n",
       "      <td>-0.081149</td>\n",
       "      <td>0.099055</td>\n",
       "      <td>0.030815</td>\n",
       "      <td>0.099320</td>\n",
       "      <td>-0.081225</td>\n",
       "      <td>0.031153</td>\n",
       "      <td>-0.080204</td>\n",
       "      <td>-0.028578</td>\n",
       "      <td>-0.037810</td>\n",
       "      <td>73</td>\n",
       "    </tr>\n",
       "    <tr>\n",
       "      <th>3</th>\n",
       "      <td>-0.053166</td>\n",
       "      <td>0.007892</td>\n",
       "      <td>-1.529572</td>\n",
       "      <td>1.458670</td>\n",
       "      <td>-0.734888</td>\n",
       "      <td>-0.503057</td>\n",
       "      <td>-0.532288</td>\n",
       "      <td>-0.022648</td>\n",
       "      <td>0.070379</td>\n",
       "      <td>-1.529616</td>\n",
       "      <td>...</td>\n",
       "      <td>1.294445</td>\n",
       "      <td>-0.273994</td>\n",
       "      <td>1.718030</td>\n",
       "      <td>0.060490</td>\n",
       "      <td>-1.941472</td>\n",
       "      <td>1.189055</td>\n",
       "      <td>-0.650072</td>\n",
       "      <td>-0.596036</td>\n",
       "      <td>0.285584</td>\n",
       "      <td>24</td>\n",
       "    </tr>\n",
       "    <tr>\n",
       "      <th>4</th>\n",
       "      <td>-0.162186</td>\n",
       "      <td>-0.530731</td>\n",
       "      <td>-0.356022</td>\n",
       "      <td>0.209101</td>\n",
       "      <td>-0.282881</td>\n",
       "      <td>0.324258</td>\n",
       "      <td>0.422291</td>\n",
       "      <td>-0.745394</td>\n",
       "      <td>-0.038498</td>\n",
       "      <td>-0.477472</td>\n",
       "      <td>...</td>\n",
       "      <td>0.860707</td>\n",
       "      <td>0.729105</td>\n",
       "      <td>-0.046928</td>\n",
       "      <td>0.239313</td>\n",
       "      <td>0.133619</td>\n",
       "      <td>-0.398247</td>\n",
       "      <td>0.280034</td>\n",
       "      <td>0.195425</td>\n",
       "      <td>0.424736</td>\n",
       "      <td>59</td>\n",
       "    </tr>\n",
       "  </tbody>\n",
       "</table>\n",
       "<p>5 rows × 101 columns</p>\n",
       "</div>"
      ],
      "text/plain": [
       "          0         1         2         3         4         5         6  \\\n",
       "0 -0.580157 -0.902683 -0.200629  0.426924 -0.298552  0.377382  0.334578   \n",
       "1 -0.151489 -1.193317 -0.412542  0.074164 -1.053800  0.283322  0.306509   \n",
       "2 -0.206052 -0.158160 -0.194283  0.238795  0.007292  0.196439  0.141539   \n",
       "3 -0.053166  0.007892 -1.529572  1.458670 -0.734888 -0.503057 -0.532288   \n",
       "4 -0.162186 -0.530731 -0.356022  0.209101 -0.282881  0.324258  0.422291   \n",
       "\n",
       "          7         8         9   ...          91        92        93  \\\n",
       "0 -1.341522  0.284654 -0.601798   ...    0.714149  0.436149  0.067786   \n",
       "1 -0.714775 -0.282685 -0.205421   ...    1.560397  1.276572 -0.248248   \n",
       "2 -0.223540  0.046263 -0.282032   ...   -0.081149  0.099055  0.030815   \n",
       "3 -0.022648  0.070379 -1.529616   ...    1.294445 -0.273994  1.718030   \n",
       "4 -0.745394 -0.038498 -0.477472   ...    0.860707  0.729105 -0.046928   \n",
       "\n",
       "         94        95        96        97        98        99  Labels  \n",
       "0  0.280465 -0.069688  0.040827  0.063288  0.042661 -0.402801      45  \n",
       "1  0.154423 -0.181553 -0.448146 -0.126884 -0.248857  1.153092      68  \n",
       "2  0.099320 -0.081225  0.031153 -0.080204 -0.028578 -0.037810      73  \n",
       "3  0.060490 -1.941472  1.189055 -0.650072 -0.596036  0.285584      24  \n",
       "4  0.239313  0.133619 -0.398247  0.280034  0.195425  0.424736      59  \n",
       "\n",
       "[5 rows x 101 columns]"
      ]
     },
     "execution_count": 51,
     "metadata": {},
     "output_type": "execute_result"
    }
   ],
   "source": [
    "large_embedded_data.head()"
   ]
  },
  {
   "cell_type": "code",
   "execution_count": 55,
   "metadata": {},
   "outputs": [],
   "source": [
    "large_embedded_data[\"sum\"]=large_embedded_data.drop([\"Labels\"],axis=1).sum(axis=1)"
   ]
  },
  {
   "cell_type": "code",
   "execution_count": 56,
   "metadata": {},
   "outputs": [],
   "source": [
    "large_embedded_data=large_embedded_data.loc[large_embedded_data[\"sum\"]!=0].drop(\"sum\",axis=1)"
   ]
  },
  {
   "cell_type": "code",
   "execution_count": 57,
   "metadata": {},
   "outputs": [
    {
     "data": {
      "text/plain": [
       "(392417, 102)"
      ]
     },
     "execution_count": 57,
     "metadata": {},
     "output_type": "execute_result"
    }
   ],
   "source": [
    "large_embedded_data.shape"
   ]
  },
  {
   "cell_type": "code",
   "execution_count": 53,
   "metadata": {},
   "outputs": [
    {
     "data": {
      "text/plain": [
       "LabelEncoder()"
      ]
     },
     "execution_count": 53,
     "metadata": {},
     "output_type": "execute_result"
    }
   ],
   "source": [
    "large_label_encoder"
   ]
  },
  {
   "cell_type": "code",
   "execution_count": 54,
   "metadata": {},
   "outputs": [],
   "source": [
    "with open(\"model/{}/label_encoder.pickle\".format(version), \"wb\") as file:\n",
    "    pickle.dump(large_label_encoder,file)"
   ]
  },
  {
   "cell_type": "markdown",
   "metadata": {},
   "source": [
    "# ---------------------------------------------------------------------------------------------------------------"
   ]
  },
  {
   "cell_type": "markdown",
   "metadata": {},
   "source": [
    "### Build Neural Network"
   ]
  },
  {
   "cell_type": "code",
   "execution_count": null,
   "metadata": {},
   "outputs": [],
   "source": [
    "data=large_embedded_data.copy()\n",
    "sampled_embedded_data=data.sample(n=len(data))"
   ]
  },
  {
   "cell_type": "code",
   "execution_count": null,
   "metadata": {},
   "outputs": [],
   "source": [
    "nn_X_train,nn_X_test,nn_y_train,nn_y_test=train_test_split(sampled_embedded_data.drop(\"Labels\",axis=1),to_categorical(sampled_embedded_data[\"Labels\"]),test_size=0.2)"
   ]
  },
  {
   "cell_type": "code",
   "execution_count": null,
   "metadata": {},
   "outputs": [],
   "source": [
    "def accuracy(predicted,truth):\n",
    "    result=[int(value) for value in np.array(predicted)==np.array(truth)]\n",
    "    return sum(result)/len(result)"
   ]
  },
  {
   "cell_type": "code",
   "execution_count": null,
   "metadata": {},
   "outputs": [],
   "source": [
    "model = Sequential()\n",
    "model.add(Dense(2000, input_shape=(100,), activation='relu'))\n",
    "model.add(Dropout(0.1))\n",
    "model.add(Dense(1500, activation='relu'))\n",
    "model.add(Dropout(0.1))\n",
    "model.add(Dense(110, activation='softmax'))\n",
    "\n",
    "model.compile(optimizer='adam', loss='categorical_crossentropy')"
   ]
  },
  {
   "cell_type": "code",
   "execution_count": null,
   "metadata": {},
   "outputs": [],
   "source": [
    "history = model.fit(nn_X_train, nn_y_train, epochs=15, batch_size=100, validation_data=(nn_X_test,nn_y_test), shuffle=True)"
   ]
  },
  {
   "cell_type": "code",
   "execution_count": null,
   "metadata": {},
   "outputs": [],
   "source": [
    "nn_y_truth=[np.argmax(value) for value in nn_y_test]\n",
    "nn_y_pred=[np.argmax(value) for value in model.predict(nn_X_test)]\n",
    "print(\"Validation Accuracy : {}\".format(accuracy(nn_y_pred,nn_y_truth)))"
   ]
  },
  {
   "cell_type": "code",
   "execution_count": null,
   "metadata": {},
   "outputs": [],
   "source": [
    "nn_y_truth=[np.argmax(value) for value in nn_y_train]\n",
    "nn_y_pred=[np.argmax(value) for value in model.predict(nn_X_train)]\n",
    "print(\"Train Accuracy : {}\".format(accuracy(nn_y_pred,nn_y_truth)))"
   ]
  },
  {
   "cell_type": "code",
   "execution_count": null,
   "metadata": {},
   "outputs": [],
   "source": [
    "model.save(\"model.h5\")"
   ]
  },
  {
   "cell_type": "markdown",
   "metadata": {},
   "source": [
    "# ---------------------------------------------------------------------------------------------------------------"
   ]
  }
 ],
 "metadata": {
  "kernelspec": {
   "display_name": "Python 3",
   "language": "python",
   "name": "python3"
  },
  "language_info": {
   "codemirror_mode": {
    "name": "ipython",
    "version": 3
   },
   "file_extension": ".py",
   "mimetype": "text/x-python",
   "name": "python",
   "nbconvert_exporter": "python",
   "pygments_lexer": "ipython3",
   "version": "3.6.4"
  }
 },
 "nbformat": 4,
 "nbformat_minor": 2
}
