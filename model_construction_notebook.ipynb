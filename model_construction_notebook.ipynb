{
 "cells": [
  {
   "cell_type": "markdown",
   "metadata": {},
   "source": [
    "# Import Useful Modules "
   ]
  },
  {
   "cell_type": "code",
   "execution_count": 3,
   "metadata": {},
   "outputs": [
    {
     "name": "stderr",
     "output_type": "stream",
     "text": [
      "D:\\Program\\Anaconda\\lib\\site-packages\\gensim\\utils.py:1197: UserWarning: detected Windows; aliasing chunkize to chunkize_serial\n",
      "  warnings.warn(\"detected Windows; aliasing chunkize to chunkize_serial\")\n",
      "D:\\Program\\Anaconda\\lib\\site-packages\\sklearn\\cross_validation.py:41: DeprecationWarning: This module was deprecated in version 0.18 in favor of the model_selection module into which all the refactored classes and functions are moved. Also note that the interface of the new CV iterators are different from that of this module. This module will be removed in 0.20.\n",
      "  \"This module will be removed in 0.20.\", DeprecationWarning)\n",
      "D:\\Program\\Anaconda\\lib\\site-packages\\sklearn\\grid_search.py:42: DeprecationWarning: This module was deprecated in version 0.18 in favor of the model_selection module into which all the refactored classes and functions are moved. This module will be removed in 0.20.\n",
      "  DeprecationWarning)\n",
      "D:\\Program\\Anaconda\\lib\\site-packages\\h5py\\__init__.py:36: FutureWarning: Conversion of the second argument of issubdtype from `float` to `np.floating` is deprecated. In future, it will be treated as `np.float64 == np.dtype(float).type`.\n",
      "  from ._conv import register_converters as _register_converters\n",
      "Using TensorFlow backend.\n"
     ]
    }
   ],
   "source": [
    "import numpy as np\n",
    "import pandas as pd\n",
    "import matplotlib.pyplot as plt\n",
    "from time import gmtime, strftime\n",
    "import time\n",
    "import datetime\n",
    "from collections import Counter\n",
    "import pickle\n",
    "import os\n",
    "\n",
    "from sklearn.model_selection import train_test_split\n",
    "from sklearn.metrics import classification_report\n",
    "\n",
    "# Preprocessing\n",
    "from sklearn.preprocessing import LabelEncoder, OneHotEncoder\n",
    "\n",
    "# Embedder\n",
    "from gensim.models import FastText\n",
    "\n",
    "# Classifier\n",
    "from sklearn.svm import SVC\n",
    "from sklearn.ensemble import GradientBoostingClassifier as GBC\n",
    "from sklearn.linear_model import LogisticRegression as LR\n",
    "from sklearn.ensemble import RandomForestClassifier as RFC\n",
    "from sklearn.grid_search import GridSearchCV as GS\n",
    "\n",
    "import keras\n",
    "import tensorflow\n",
    "from keras.models import Sequential\n",
    "from keras.layers import Dense, Activation, Dropout\n",
    "from keras.utils import to_categorical\n",
    "\n",
    "from preprocessing_pipeline import preprocessing"
   ]
  },
  {
   "cell_type": "code",
   "execution_count": 4,
   "metadata": {},
   "outputs": [],
   "source": [
    "#Determine Model's Save Location\n",
    "\n",
    "#version=\n",
    "version=\"version_6\""
   ]
  },
  {
   "cell_type": "code",
   "execution_count": 5,
   "metadata": {},
   "outputs": [],
   "source": [
    "if(not(os.path.exists(\"model/{}\".format(version)))):\n",
    "    os.makedirs(\"model/{}\".format(version))"
   ]
  },
  {
   "cell_type": "markdown",
   "metadata": {},
   "source": [
    "# ---------------------------------------------------------------------------------------------------------------"
   ]
  },
  {
   "cell_type": "markdown",
   "metadata": {},
   "source": [
    "# Read Data To Pandas Dataframe"
   ]
  },
  {
   "cell_type": "code",
   "execution_count": 6,
   "metadata": {},
   "outputs": [],
   "source": [
    "# data untuk klasifikasi kategori produk\n",
    "data_for_classification=pd.read_csv(\"data/query.csv\",header=None)\n",
    "\n",
    "# data untuk word embedding\n",
    "data_for_embedding=pd.read_fwf('data/products2m.txt',header=None)\n",
    "data_for_embedding[\"Product Title\"]=data_for_embedding[0]\n",
    "data_for_embedding=data_for_embedding[[\"Product Title\"]]\n",
    "data_for_embedding.dropna(inplace=True,axis=0)"
   ]
  },
  {
   "cell_type": "code",
   "execution_count": 12,
   "metadata": {},
   "outputs": [
    {
     "data": {
      "text/html": [
       "<div>\n",
       "<style scoped>\n",
       "    .dataframe tbody tr th:only-of-type {\n",
       "        vertical-align: middle;\n",
       "    }\n",
       "\n",
       "    .dataframe tbody tr th {\n",
       "        vertical-align: top;\n",
       "    }\n",
       "\n",
       "    .dataframe thead th {\n",
       "        text-align: right;\n",
       "    }\n",
       "</style>\n",
       "<table border=\"1\" class=\"dataframe\">\n",
       "  <thead>\n",
       "    <tr style=\"text-align: right;\">\n",
       "      <th></th>\n",
       "      <th>Product Title</th>\n",
       "    </tr>\n",
       "  </thead>\n",
       "  <tbody>\n",
       "    <tr>\n",
       "      <th>0</th>\n",
       "      <td>PC LENOVO IC300s-i5(4460)-VGA with LED-19,5</td>\n",
       "    </tr>\n",
       "    <tr>\n",
       "      <th>1</th>\n",
       "      <td>prosessor intel core i5 4440</td>\n",
       "    </tr>\n",
       "    <tr>\n",
       "      <th>2</th>\n",
       "      <td>LENOVO All in One aio310-0kid</td>\n",
       "    </tr>\n",
       "    <tr>\n",
       "      <th>3</th>\n",
       "      <td>PC Lenovo aio510-crid</td>\n",
       "    </tr>\n",
       "    <tr>\n",
       "      <th>4</th>\n",
       "      <td>HP Pavilion 570-P034D Win 10 Home</td>\n",
       "    </tr>\n",
       "  </tbody>\n",
       "</table>\n",
       "</div>"
      ],
      "text/plain": [
       "                                 Product Title\n",
       "0  PC LENOVO IC300s-i5(4460)-VGA with LED-19,5\n",
       "1                 prosessor intel core i5 4440\n",
       "2                LENOVO All in One aio310-0kid\n",
       "3                        PC Lenovo aio510-crid\n",
       "4            HP Pavilion 570-P034D Win 10 Home"
      ]
     },
     "execution_count": 12,
     "metadata": {},
     "output_type": "execute_result"
    }
   ],
   "source": [
    "data_for_embedding.head()"
   ]
  },
  {
   "cell_type": "code",
   "execution_count": 9,
   "metadata": {},
   "outputs": [
    {
     "data": {
      "text/html": [
       "<div>\n",
       "<style scoped>\n",
       "    .dataframe tbody tr th:only-of-type {\n",
       "        vertical-align: middle;\n",
       "    }\n",
       "\n",
       "    .dataframe tbody tr th {\n",
       "        vertical-align: top;\n",
       "    }\n",
       "\n",
       "    .dataframe thead th {\n",
       "        text-align: right;\n",
       "    }\n",
       "</style>\n",
       "<table border=\"1\" class=\"dataframe\">\n",
       "  <thead>\n",
       "    <tr style=\"text-align: right;\">\n",
       "      <th></th>\n",
       "      <th>0</th>\n",
       "      <th>1</th>\n",
       "      <th>2</th>\n",
       "    </tr>\n",
       "  </thead>\n",
       "  <tbody>\n",
       "    <tr>\n",
       "      <th>0</th>\n",
       "      <td>hunting</td>\n",
       "      <td>gear+camping</td>\n",
       "      <td>327</td>\n",
       "    </tr>\n",
       "    <tr>\n",
       "      <th>1</th>\n",
       "      <td>koleksi</td>\n",
       "      <td>Lightstick+EXO</td>\n",
       "      <td>63</td>\n",
       "    </tr>\n",
       "    <tr>\n",
       "      <th>2</th>\n",
       "      <td>kartu-perdana</td>\n",
       "      <td>vivo+v7</td>\n",
       "      <td>183</td>\n",
       "    </tr>\n",
       "    <tr>\n",
       "      <th>3</th>\n",
       "      <td>aksesoris-mobil</td>\n",
       "      <td>subwoofer+kolong+aktif</td>\n",
       "      <td>389</td>\n",
       "    </tr>\n",
       "    <tr>\n",
       "      <th>4</th>\n",
       "      <td>anak-perempuan</td>\n",
       "      <td>Hotpants+anak</td>\n",
       "      <td>1366</td>\n",
       "    </tr>\n",
       "  </tbody>\n",
       "</table>\n",
       "</div>"
      ],
      "text/plain": [
       "                 0                       1     2\n",
       "0          hunting            gear+camping   327\n",
       "1          koleksi          Lightstick+EXO    63\n",
       "2    kartu-perdana                 vivo+v7   183\n",
       "3  aksesoris-mobil  subwoofer+kolong+aktif   389\n",
       "4   anak-perempuan           Hotpants+anak  1366"
      ]
     },
     "execution_count": 9,
     "metadata": {},
     "output_type": "execute_result"
    }
   ],
   "source": [
    "data_for_classification.head()"
   ]
  },
  {
   "cell_type": "code",
   "execution_count": 15,
   "metadata": {},
   "outputs": [
    {
     "data": {
      "text/plain": [
       "2440682"
      ]
     },
     "execution_count": 15,
     "metadata": {},
     "output_type": "execute_result"
    }
   ],
   "source": [
    "len(data_for_classification)"
   ]
  },
  {
   "cell_type": "markdown",
   "metadata": {},
   "source": [
    "# ---------------------------------------------------------------------------------------------------------------"
   ]
  },
  {
   "cell_type": "markdown",
   "metadata": {},
   "source": [
    "# Construct Word Embedder (Using fasttext)"
   ]
  },
  {
   "cell_type": "code",
   "execution_count": 15,
   "metadata": {},
   "outputs": [],
   "source": [
    "preprocessor=preprocessing(None,None)"
   ]
  },
  {
   "cell_type": "code",
   "execution_count": 16,
   "metadata": {},
   "outputs": [
    {
     "data": {
      "text/html": [
       "<div>\n",
       "<style scoped>\n",
       "    .dataframe tbody tr th:only-of-type {\n",
       "        vertical-align: middle;\n",
       "    }\n",
       "\n",
       "    .dataframe tbody tr th {\n",
       "        vertical-align: top;\n",
       "    }\n",
       "\n",
       "    .dataframe thead th {\n",
       "        text-align: right;\n",
       "    }\n",
       "</style>\n",
       "<table border=\"1\" class=\"dataframe\">\n",
       "  <thead>\n",
       "    <tr style=\"text-align: right;\">\n",
       "      <th></th>\n",
       "      <th>0</th>\n",
       "      <th>1</th>\n",
       "      <th>2</th>\n",
       "    </tr>\n",
       "  </thead>\n",
       "  <tbody>\n",
       "    <tr>\n",
       "      <th>0</th>\n",
       "      <td>hardware</td>\n",
       "      <td>KINGSTON+KVR1333D3N9</td>\n",
       "      <td>1510.0</td>\n",
       "    </tr>\n",
       "    <tr>\n",
       "      <th>1</th>\n",
       "      <td>musik</td>\n",
       "      <td>power+amplifier+wisdom+</td>\n",
       "      <td>62.0</td>\n",
       "    </tr>\n",
       "    <tr>\n",
       "      <th>2</th>\n",
       "      <td>outwear-motor</td>\n",
       "      <td>jas%20hujan%20anak</td>\n",
       "      <td>391.0</td>\n",
       "    </tr>\n",
       "    <tr>\n",
       "      <th>3</th>\n",
       "      <td>celana</td>\n",
       "      <td>Celana+bahan+formal</td>\n",
       "      <td>288.0</td>\n",
       "    </tr>\n",
       "    <tr>\n",
       "      <th>4</th>\n",
       "      <td>komputer</td>\n",
       "      <td>Preset+lightroom</td>\n",
       "      <td>1.0</td>\n",
       "    </tr>\n",
       "  </tbody>\n",
       "</table>\n",
       "</div>"
      ],
      "text/plain": [
       "               0                        1       2\n",
       "0       hardware     KINGSTON+KVR1333D3N9  1510.0\n",
       "1          musik  power+amplifier+wisdom+    62.0\n",
       "2  outwear-motor       jas%20hujan%20anak   391.0\n",
       "3         celana      Celana+bahan+formal   288.0\n",
       "4       komputer         Preset+lightroom     1.0"
      ]
     },
     "execution_count": 16,
     "metadata": {},
     "output_type": "execute_result"
    }
   ],
   "source": [
    "data_for_classification.head()"
   ]
  },
  {
   "cell_type": "code",
   "execution_count": 19,
   "metadata": {},
   "outputs": [],
   "source": [
    "# menghapus karakter tidak penting dari data\n",
    "# product_title=[preprocessing_pipeline.remove_parentheses(value) for value in data_for_embedding[\"Product Title\"]]\n",
    "\n",
    "# menghapus karakter tidak penting dari data\n",
    "data_for_classification.dropna(axis=0,inplace=True)\n",
    "product_title=[preprocessor.remove_parentheses(value) for value in data_for_classification[1]]"
   ]
  },
  {
   "cell_type": "code",
   "execution_count": 20,
   "metadata": {},
   "outputs": [],
   "source": [
    "EMBEDDING_DIMENSION=100\n",
    "EMBEDDING_EPOCH=20\n",
    "EMBEDDING_WINDOW=7\n",
    "SEED=2918342"
   ]
  },
  {
   "cell_type": "markdown",
   "metadata": {},
   "source": [
    "#### Train Model"
   ]
  },
  {
   "cell_type": "code",
   "execution_count": 21,
   "metadata": {},
   "outputs": [
    {
     "name": "stdout",
     "output_type": "stream",
     "text": [
      "Start Time : 2018-07-04 20:36:27.935689\n",
      "\n",
      "End Time : 2018-07-04 20:38:01.733099\n"
     ]
    }
   ],
   "source": [
    "# membuat model word embedding\n",
    "print(\"Start Time : {}\\n\".format(str(datetime.datetime.now())))\n",
    "word_embedder = FastText(product_title, size=EMBEDDING_DIMENSION, window=EMBEDDING_WINDOW, min_count=10, workers=4, sg=1, seed=SEED, min_n=5, iter=EMBEDDING_EPOCH,)\n",
    "print(\"End Time : {}\".format(str(datetime.datetime.now())))"
   ]
  },
  {
   "cell_type": "markdown",
   "metadata": {},
   "source": [
    "#### Save Model"
   ]
  },
  {
   "cell_type": "code",
   "execution_count": 23,
   "metadata": {},
   "outputs": [],
   "source": [
    "#save model\n",
    "pickle.dump(word_embedder, open(\"model/{}/word_embedder.pickle\".format(version), 'wb'))"
   ]
  },
  {
   "cell_type": "markdown",
   "metadata": {},
   "source": [
    "# ---------------------------------------------------------------------------------------------------------------"
   ]
  },
  {
   "cell_type": "markdown",
   "metadata": {},
   "source": [
    "# Word Embedding Evaluation"
   ]
  },
  {
   "cell_type": "markdown",
   "metadata": {},
   "source": [
    "#### Words With Similar Context Will Have Higher Similarity Degree"
   ]
  },
  {
   "cell_type": "code",
   "execution_count": 24,
   "metadata": {},
   "outputs": [
    {
     "data": {
      "text/plain": [
       "[('shippuden', 0.7462983727455139),\n",
       " ('akatsuki', 0.6295211911201477),\n",
       " ('anime', 0.6164800524711609),\n",
       " ('twice', 0.600074291229248),\n",
       " ('woody', 0.5965604186058044),\n",
       " ('jubah', 0.5933154821395874),\n",
       " ('brigez', 0.5873425006866455),\n",
       " ('tad', 0.5824598670005798),\n",
       " ('badge', 0.5809571146965027),\n",
       " ('ninjago', 0.5797038078308105)]"
      ]
     },
     "execution_count": 24,
     "metadata": {},
     "output_type": "execute_result"
    }
   ],
   "source": [
    "word_embedder.wv.most_similar(\"naruto\")"
   ]
  },
  {
   "cell_type": "markdown",
   "metadata": {},
   "source": [
    "#### Merk dari barang akan saling berdekatan"
   ]
  },
  {
   "cell_type": "code",
   "execution_count": 25,
   "metadata": {},
   "outputs": [
    {
     "data": {
      "text/plain": [
       "[('civic', 0.6304067373275757),\n",
       " ('cielo', 0.6278772950172424),\n",
       " ('mobilio', 0.6134516000747681),\n",
       " ('jazz', 0.6122152805328369),\n",
       " ('nuvo', 0.6055834293365479),\n",
       " ('freed', 0.6030832529067993),\n",
       " ('orisinil', 0.5964998006820679),\n",
       " ('idsi', 0.5910791754722595),\n",
       " ('vtec', 0.5893610119819641),\n",
       " ('accord', 0.5868967175483704)]"
      ]
     },
     "execution_count": 25,
     "metadata": {},
     "output_type": "execute_result"
    }
   ],
   "source": [
    "word_embedder.wv.most_similar(\"honda\")"
   ]
  },
  {
   "cell_type": "markdown",
   "metadata": {},
   "source": [
    "### Embedding tidak terlalu terpengaruh typo"
   ]
  },
  {
   "cell_type": "code",
   "execution_count": 26,
   "metadata": {},
   "outputs": [
    {
     "data": {
      "text/plain": [
       "[('honda', 0.9430763721466064),\n",
       " ('onda', 0.6621943712234497),\n",
       " ('ebbro', 0.6589542627334595),\n",
       " ('orisinil', 0.6427961587905884),\n",
       " ('cielo', 0.637367308139801),\n",
       " ('nuvo', 0.6361693143844604),\n",
       " ('civic', 0.6337378025054932),\n",
       " ('footrest', 0.6335226893424988),\n",
       " ('ahm', 0.6318982839584351),\n",
       " ('skok', 0.6311133503913879)]"
      ]
     },
     "execution_count": 26,
     "metadata": {},
     "output_type": "execute_result"
    }
   ],
   "source": [
    "word_embedder.wv.most_similar(\"rhonda\")"
   ]
  },
  {
   "cell_type": "code",
   "execution_count": 27,
   "metadata": {},
   "outputs": [
    {
     "data": {
      "text/plain": [
       "[('honda', 0.9483532905578613),\n",
       " ('orisinil', 0.6483314633369446),\n",
       " ('cielo', 0.6374216079711914),\n",
       " ('opel', 0.6283911466598511),\n",
       " ('hrs', 0.6220570802688599),\n",
       " ('nuvo', 0.620927095413208),\n",
       " ('civic', 0.617662787437439),\n",
       " ('skok', 0.6168977618217468),\n",
       " ('ahm', 0.6105969548225403),\n",
       " ('pdk', 0.6082438230514526)]"
      ]
     },
     "execution_count": 27,
     "metadata": {},
     "output_type": "execute_result"
    }
   ],
   "source": [
    "word_embedder.wv.most_similar(\"hondar\")"
   ]
  },
  {
   "cell_type": "code",
   "execution_count": 28,
   "metadata": {},
   "outputs": [
    {
     "data": {
      "text/plain": [
       "[('samsu', 0.7955980896949768),\n",
       " ('duos', 0.7017251253128052),\n",
       " ('galaxy', 0.6823732852935791),\n",
       " ('galaxi', 0.6497334241867065),\n",
       " ('bootloop', 0.6482325196266174),\n",
       " ('jace', 0.6337250471115112),\n",
       " ('jh', 0.6240614652633667),\n",
       " ('otterbox', 0.6198964715003967),\n",
       " ('gh', 0.6152838468551636),\n",
       " ('uag', 0.6117679476737976)]"
      ]
     },
     "execution_count": 28,
     "metadata": {},
     "output_type": "execute_result"
    }
   ],
   "source": [
    "word_embedder.wv.most_similar(\"samsung\")"
   ]
  },
  {
   "cell_type": "markdown",
   "metadata": {},
   "source": [
    "# ---------------------------------------------------------------------------------------------------------------"
   ]
  },
  {
   "cell_type": "markdown",
   "metadata": {},
   "source": [
    "# Embed Product Title To Vector Space"
   ]
  },
  {
   "cell_type": "code",
   "execution_count": null,
   "metadata": {},
   "outputs": [],
   "source": [
    "embedded_data,label_encoder=preprocessing_pipeline[\"preprocess_data\"](\n",
    "    data_for_classification[\"Product Title\"],\n",
    "    data_for_classification[\"Category Name\"],\n",
    "    EMBEDDING_DIMENSION,\n",
    "    word_embedder\n",
    ")"
   ]
  },
  {
   "cell_type": "code",
   "execution_count": null,
   "metadata": {},
   "outputs": [],
   "source": [
    "embedded_data.head()"
   ]
  },
  {
   "cell_type": "markdown",
   "metadata": {},
   "source": [
    "# ---------------------------------------------------------------------------------------------------------------"
   ]
  },
  {
   "cell_type": "markdown",
   "metadata": {},
   "source": [
    "# Using Logistic Regression"
   ]
  },
  {
   "cell_type": "code",
   "execution_count": null,
   "metadata": {},
   "outputs": [],
   "source": [
    "sampled_embedded_data=embedded_data.sample(n=len(embedded_data))"
   ]
  },
  {
   "cell_type": "code",
   "execution_count": null,
   "metadata": {},
   "outputs": [],
   "source": [
    "lr_X_train,lr_X_test,lr_y_train,lr_y_test=train_test_split(sampled_embedded_data.drop(\"Category Name\",axis=1),sampled_embedded_data[\"Category Name\"],test_size=0.25)"
   ]
  },
  {
   "cell_type": "markdown",
   "metadata": {},
   "source": [
    "#### Train Model"
   ]
  },
  {
   "cell_type": "code",
   "execution_count": null,
   "metadata": {},
   "outputs": [],
   "source": [
    "print(\"First Logistic Regression\\n\")\n",
    "print(\"Start Time : {}\\n\".format(str(datetime.datetime.now())))\n",
    "classifier_lr=LR(solver=\"newton-cg\",multi_class=\"multinomial\",n_jobs=-1,warm_start=True)\n",
    "classifier_lr.fit(lr_X_train,lr_y_train)\n",
    "report_lr=classification_report(lr_y_test,classifier_lr.predict(lr_X_test))\n",
    "print(\"Finish Time : {}\\n\".format(str(datetime.datetime.now())))\n",
    "print(\"Accuracy : {}\".format(classifier_lr.score(lr_X_test,lr_y_test)))"
   ]
  },
  {
   "cell_type": "markdown",
   "metadata": {},
   "source": [
    "#### Save Model"
   ]
  },
  {
   "cell_type": "code",
   "execution_count": null,
   "metadata": {},
   "outputs": [],
   "source": [
    "#save model\n",
    "pickle.dump(classifier_lr, open(\"model/{}/classifier_lr.pickle\".format(version), 'wb'))"
   ]
  },
  {
   "cell_type": "markdown",
   "metadata": {},
   "source": [
    "#### Feed Probability Prediction To Another Logistic Regression"
   ]
  },
  {
   "cell_type": "code",
   "execution_count": null,
   "metadata": {},
   "outputs": [],
   "source": [
    "lr_second_X_train,lr_second_X_test,lr_second_y_train,lr_second_y_test=train_test_split(classifier_lr.predict_proba(sampled_embedded_data.drop(\"Category Name\",axis=1)),sampled_embedded_data[\"Category Name\"],test_size=0.25)"
   ]
  },
  {
   "cell_type": "code",
   "execution_count": null,
   "metadata": {},
   "outputs": [],
   "source": [
    "print(\"Second Logistic Regression\\n\")\n",
    "print(\"Start Time : {}\\n\".format(str(datetime.datetime.now())))\n",
    "second_classifier_lr=LR(n_jobs=-1)\n",
    "second_classifier_lr.fit(lr_second_X_train,lr_second_y_train)\n",
    "second_report_lr=classification_report(lr_second_y_test,second_classifier_lr.predict(lr_second_X_test))\n",
    "print(\"Finish Time : {}\\n\".format(str(datetime.datetime.now())))\n",
    "print(\"Accuracy : {}\".format(second_classifier_lr.score(lr_second_X_test,lr_second_y_test)))"
   ]
  },
  {
   "cell_type": "markdown",
   "metadata": {},
   "source": [
    "#### Save Second Model"
   ]
  },
  {
   "cell_type": "code",
   "execution_count": null,
   "metadata": {},
   "outputs": [],
   "source": [
    "#save model\n",
    "pickle.dump(second_classifier_lr, open(\"model/{}/second_classifier_lr.pickle\".format(version), 'wb'))"
   ]
  },
  {
   "cell_type": "markdown",
   "metadata": {},
   "source": [
    "# ---------------------------------------------------------------------------------------------------------------"
   ]
  },
  {
   "cell_type": "markdown",
   "metadata": {},
   "source": [
    "# Using Support Vector Machine"
   ]
  },
  {
   "cell_type": "code",
   "execution_count": null,
   "metadata": {},
   "outputs": [],
   "source": [
    "sampled_embedded_data=embedded_data.sample(n=len(embedded_data))"
   ]
  },
  {
   "cell_type": "code",
   "execution_count": null,
   "metadata": {},
   "outputs": [],
   "source": [
    "svm_X_train,svm_X_test,svm_y_train,svm_y_test=train_test_split(sampled_embedded_data.drop(\"Category Name\",axis=1),sampled_embedded_data[\"Category Name\"],test_size=0.25)"
   ]
  },
  {
   "cell_type": "markdown",
   "metadata": {},
   "source": [
    "#### Train Model With Optimization"
   ]
  },
  {
   "cell_type": "code",
   "execution_count": null,
   "metadata": {},
   "outputs": [],
   "source": [
    "print(\"Start Time : {}\\n\".format(str(datetime.datetime.now())))\n",
    "param_grid={\"C\":[1,10,100,1000],\"gamma\":[0.01,0.1,1,10],\"kernel\":[\"rbf\",\"linear\"]}\n",
    "classifier_svm=SVC(verbose=0)\n",
    "optimizer_svm=GS(classifier_svm,param_grid,scoring=\"accuracy\",verbose=4)\n",
    "optimizer_svm.fit(svm_X_train,svm_y_train)\n",
    "report_svm=classification_report(svm_y_test,optimizer_svm.predict(svm_X_test))\n",
    "print(\"Finish Time : {}\\n\".format(str(datetime.datetime.now())))\n",
    "print(\"Accuracy : {}\".format(optimizer_svm.score(svm_X_test,svm_y_test)))"
   ]
  },
  {
   "cell_type": "code",
   "execution_count": null,
   "metadata": {},
   "outputs": [],
   "source": [
    "print(\"Best Hyperparameters\")\n",
    "optimizer_svm.best_params_"
   ]
  },
  {
   "cell_type": "markdown",
   "metadata": {},
   "source": [
    "#### Train Model No Optimization"
   ]
  },
  {
   "cell_type": "code",
   "execution_count": null,
   "metadata": {},
   "outputs": [],
   "source": [
    "print(\"Start Time : {}\\n\".format(str(datetime.datetime.now())))\n",
    "\n",
    "classifier_svm=SVC(C=10,gamma=0.01,kernel='rbf')\n",
    "classifier_svm.fit(svm_X_train,svm_y_train)\n",
    "report_svm=classification_report(svm_y_test,classifier_svm.predict(svm_X_test))\n",
    "print(\"Finish Time : {}\\n\".format(str(datetime.datetime.now())))\n",
    "print(\"Accuracy : {}\".format(classifier_svm.score(svm_X_test,svm_y_test)))"
   ]
  },
  {
   "cell_type": "markdown",
   "metadata": {},
   "source": [
    "#### Save Model"
   ]
  },
  {
   "cell_type": "code",
   "execution_count": null,
   "metadata": {},
   "outputs": [],
   "source": [
    "#save model\n",
    "pickle.dump(classifier_svm, open(\"model/{}/classifier_svm.pickle\".format(version), 'wb'))"
   ]
  },
  {
   "cell_type": "markdown",
   "metadata": {},
   "source": [
    "# ---------------------------------------------------------------------------------------------------------------"
   ]
  }
 ],
 "metadata": {
  "kernelspec": {
   "display_name": "Python 3",
   "language": "python",
   "name": "python3"
  },
  "language_info": {
   "codemirror_mode": {
    "name": "ipython",
    "version": 3
   },
   "file_extension": ".py",
   "mimetype": "text/x-python",
   "name": "python",
   "nbconvert_exporter": "python",
   "pygments_lexer": "ipython3",
   "version": "3.6.4"
  }
 },
 "nbformat": 4,
 "nbformat_minor": 2
}
